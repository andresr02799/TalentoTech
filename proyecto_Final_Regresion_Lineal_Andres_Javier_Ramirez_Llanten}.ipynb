{
  "nbformat": 4,
  "nbformat_minor": 0,
  "metadata": {
    "colab": {
      "provenance": []
    },
    "kernelspec": {
      "name": "python3",
      "display_name": "Python 3"
    },
    "language_info": {
      "name": "python"
    }
  },
  "cells": [
    {
      "cell_type": "markdown",
      "source": [
        "# **Prediccion de precios de inmuebles**"
      ],
      "metadata": {
        "id": "MkfxKCQlFF4U"
      }
    },
    {
      "cell_type": "markdown",
      "source": [],
      "metadata": {
        "id": "4rapSCC1xx73"
      }
    },
    {
      "cell_type": "markdown",
      "source": [
        "### **El dataset fue tomado de https://www.kaggle.com/datasets/danieleduardofajardo/colombia-house-prediction**"
      ],
      "metadata": {
        "id": "BfCNmUOJmx39"
      }
    },
    {
      "cell_type": "markdown",
      "source": [
        "**Importar las librerias necesarias**"
      ],
      "metadata": {
        "id": "Gq7SUHblFWPq"
      }
    },
    {
      "cell_type": "code",
      "source": [
        "import pandas as pd\n",
        "from sklearn.model_selection import train_test_split\n",
        "from sklearn.neural_network import MLPRegressor\n",
        "import matplotlib.pyplot as plt\n",
        "from sklearn.metrics import mean_absolute_error, mean_squared_error, r2_score\n",
        "from sklearn.metrics import mean_squared_error\n",
        "import seaborn as sns\n",
        "import copy\n",
        "from sklearn.feature_selection import RFE\n",
        "from sklearn.svm import SVR\n",
        "import sklearn\n",
        "import numpy as np\n",
        "import math\n",
        "import matplotlib as mpl\n",
        "from itertools import *\n",
        "from sklearn import preprocessing\n",
        "import random"
      ],
      "metadata": {
        "id": "DH8fbZdhTcKj"
      },
      "execution_count": 75,
      "outputs": []
    },
    {
      "cell_type": "markdown",
      "source": [
        "**Mediante pandas leemos el csv, el cual contiene el DataSet y se imprime**"
      ],
      "metadata": {
        "id": "MYFjIylEFqaa"
      }
    },
    {
      "cell_type": "code",
      "source": [
        "url=\"/content/Sales_prediction_Colombia.csv\"\n",
        "df_inmobiliario = pd.read_csv(url, sep=\",\", header=0)\n",
        "\n",
        "df_inmobiliario"
      ],
      "metadata": {
        "id": "q7Uu2kSeTdQJ",
        "colab": {
          "base_uri": "https://localhost:8080/",
          "height": 461
        },
        "outputId": "ecd00a77-8540-4d8d-94e5-c2aeff21217b"
      },
      "execution_count": 76,
      "outputs": [
        {
          "output_type": "execute_result",
          "data": {
            "text/plain": [
              "        Unnamed: 0 antiguedad_original   area  areabalcon  areaconstruida  \\\n",
              "0                0   Entre 5 y 10 años  145.0       10.00           145.0   \n",
              "1                1    Entre 0 y 5 años  114.0         NaN           114.0   \n",
              "2                2   Entre 5 y 10 años  170.0       30.00           170.0   \n",
              "3                3    Entre 0 y 5 años   61.0         NaN            61.0   \n",
              "4                4      Más de 20 años  120.5         NaN           120.5   \n",
              "...            ...                 ...    ...         ...             ...   \n",
              "145547      145547    Entre 0 y 5 años  118.0         NaN           118.0   \n",
              "145548      145548    Entre 0 y 5 años   89.0       10.00            89.0   \n",
              "145549      145549    Entre 0 y 5 años   88.0         NaN            88.0   \n",
              "145550      145550  Entre 10 y 20 años  173.0       25.68           173.0   \n",
              "145551      145551      Más de 30 años  106.0         NaN           106.0   \n",
              "\n",
              "        areaterraza   balcon  banos banoservicio conjuntocerrado  ...  \\\n",
              "0             10.00  Terraza    3.0          NaN             NaN  ...   \n",
              "1               NaN      NaN    3.0          NaN             NaN  ...   \n",
              "2             30.00  Terraza    4.0          NaN              Si  ...   \n",
              "3               NaN   Balcón    1.0          NaN             NaN  ...   \n",
              "4               NaN      NaN    3.0          NaN             NaN  ...   \n",
              "...             ...      ...    ...          ...             ...  ...   \n",
              "145547          NaN      NaN    3.0          NaN             NaN  ...   \n",
              "145548        10.00  Terraza    3.0          NaN             NaN  ...   \n",
              "145549          NaN      NaN    3.0          NaN             NaN  ...   \n",
              "145550        25.68  Terraza    3.0          NaN             NaN  ...   \n",
              "145551          NaN       Si    2.0          NaN             NaN  ...   \n",
              "\n",
              "        tiempodeconstruido   tipodegaraje         valor    valorventa  \\\n",
              "0        Entre 5 y 10 años  Independiente  9.000000e+08  9.000000e+08   \n",
              "1         Entre 0 y 5 años            NaN  5.481475e+08  5.481475e+08   \n",
              "2        Entre 5 y 10 años         Propio  1.500000e+09  1.500000e+09   \n",
              "3         Entre 0 y 5 años  Independiente  4.950000e+08  4.950000e+08   \n",
              "4           Más de 20 años    Servidumbre  8.500000e+08  8.500000e+08   \n",
              "...                    ...            ...           ...           ...   \n",
              "145547    Entre 0 y 5 años            NaN  8.000000e+08  8.000000e+08   \n",
              "145548    Entre 0 y 5 años         Propio  3.200000e+08  3.200000e+08   \n",
              "145549    Entre 0 y 5 años            NaN  9.500000e+08  9.500000e+08   \n",
              "145550  Entre 10 y 20 años            NaN  1.450000e+09  1.450000e+09   \n",
              "145551      Más de 20 años            NaN  4.500000e+08  4.500000e+08   \n",
              "\n",
              "        vigilancia     vista zona_de_bbq  zonadelavanderia zonaninos  \\\n",
              "0            24hrs  Exterior         NaN                Si       NaN   \n",
              "1              NaN       NaN         NaN               NaN       NaN   \n",
              "2              NaN  Exterior         NaN                Si       NaN   \n",
              "3            24hrs  Exterior         NaN               NaN       NaN   \n",
              "4               Si       NaN         NaN                Si       NaN   \n",
              "...            ...       ...         ...               ...       ...   \n",
              "145547         NaN       NaN         NaN                Si       NaN   \n",
              "145548         NaN  Exterior         NaN                Si       NaN   \n",
              "145549         NaN       NaN         NaN               NaN       NaN   \n",
              "145550       24hrs  Exterior         NaN                Si       NaN   \n",
              "145551         NaN       NaN         NaN               NaN       NaN   \n",
              "\n",
              "        zonasverdes  \n",
              "0               NaN  \n",
              "1               NaN  \n",
              "2                Si  \n",
              "3               NaN  \n",
              "4               NaN  \n",
              "...             ...  \n",
              "145547          NaN  \n",
              "145548          NaN  \n",
              "145549          NaN  \n",
              "145550          NaN  \n",
              "145551          NaN  \n",
              "\n",
              "[145552 rows x 45 columns]"
            ],
            "text/html": [
              "\n",
              "  <div id=\"df-313aacda-caa2-42f6-9927-9d2ed5155ab8\" class=\"colab-df-container\">\n",
              "    <div>\n",
              "<style scoped>\n",
              "    .dataframe tbody tr th:only-of-type {\n",
              "        vertical-align: middle;\n",
              "    }\n",
              "\n",
              "    .dataframe tbody tr th {\n",
              "        vertical-align: top;\n",
              "    }\n",
              "\n",
              "    .dataframe thead th {\n",
              "        text-align: right;\n",
              "    }\n",
              "</style>\n",
              "<table border=\"1\" class=\"dataframe\">\n",
              "  <thead>\n",
              "    <tr style=\"text-align: right;\">\n",
              "      <th></th>\n",
              "      <th>Unnamed: 0</th>\n",
              "      <th>antiguedad_original</th>\n",
              "      <th>area</th>\n",
              "      <th>areabalcon</th>\n",
              "      <th>areaconstruida</th>\n",
              "      <th>areaterraza</th>\n",
              "      <th>balcon</th>\n",
              "      <th>banos</th>\n",
              "      <th>banoservicio</th>\n",
              "      <th>conjuntocerrado</th>\n",
              "      <th>...</th>\n",
              "      <th>tiempodeconstruido</th>\n",
              "      <th>tipodegaraje</th>\n",
              "      <th>valor</th>\n",
              "      <th>valorventa</th>\n",
              "      <th>vigilancia</th>\n",
              "      <th>vista</th>\n",
              "      <th>zona_de_bbq</th>\n",
              "      <th>zonadelavanderia</th>\n",
              "      <th>zonaninos</th>\n",
              "      <th>zonasverdes</th>\n",
              "    </tr>\n",
              "  </thead>\n",
              "  <tbody>\n",
              "    <tr>\n",
              "      <th>0</th>\n",
              "      <td>0</td>\n",
              "      <td>Entre 5 y 10 años</td>\n",
              "      <td>145.0</td>\n",
              "      <td>10.00</td>\n",
              "      <td>145.0</td>\n",
              "      <td>10.00</td>\n",
              "      <td>Terraza</td>\n",
              "      <td>3.0</td>\n",
              "      <td>NaN</td>\n",
              "      <td>NaN</td>\n",
              "      <td>...</td>\n",
              "      <td>Entre 5 y 10 años</td>\n",
              "      <td>Independiente</td>\n",
              "      <td>9.000000e+08</td>\n",
              "      <td>9.000000e+08</td>\n",
              "      <td>24hrs</td>\n",
              "      <td>Exterior</td>\n",
              "      <td>NaN</td>\n",
              "      <td>Si</td>\n",
              "      <td>NaN</td>\n",
              "      <td>NaN</td>\n",
              "    </tr>\n",
              "    <tr>\n",
              "      <th>1</th>\n",
              "      <td>1</td>\n",
              "      <td>Entre 0 y 5 años</td>\n",
              "      <td>114.0</td>\n",
              "      <td>NaN</td>\n",
              "      <td>114.0</td>\n",
              "      <td>NaN</td>\n",
              "      <td>NaN</td>\n",
              "      <td>3.0</td>\n",
              "      <td>NaN</td>\n",
              "      <td>NaN</td>\n",
              "      <td>...</td>\n",
              "      <td>Entre 0 y 5 años</td>\n",
              "      <td>NaN</td>\n",
              "      <td>5.481475e+08</td>\n",
              "      <td>5.481475e+08</td>\n",
              "      <td>NaN</td>\n",
              "      <td>NaN</td>\n",
              "      <td>NaN</td>\n",
              "      <td>NaN</td>\n",
              "      <td>NaN</td>\n",
              "      <td>NaN</td>\n",
              "    </tr>\n",
              "    <tr>\n",
              "      <th>2</th>\n",
              "      <td>2</td>\n",
              "      <td>Entre 5 y 10 años</td>\n",
              "      <td>170.0</td>\n",
              "      <td>30.00</td>\n",
              "      <td>170.0</td>\n",
              "      <td>30.00</td>\n",
              "      <td>Terraza</td>\n",
              "      <td>4.0</td>\n",
              "      <td>NaN</td>\n",
              "      <td>Si</td>\n",
              "      <td>...</td>\n",
              "      <td>Entre 5 y 10 años</td>\n",
              "      <td>Propio</td>\n",
              "      <td>1.500000e+09</td>\n",
              "      <td>1.500000e+09</td>\n",
              "      <td>NaN</td>\n",
              "      <td>Exterior</td>\n",
              "      <td>NaN</td>\n",
              "      <td>Si</td>\n",
              "      <td>NaN</td>\n",
              "      <td>Si</td>\n",
              "    </tr>\n",
              "    <tr>\n",
              "      <th>3</th>\n",
              "      <td>3</td>\n",
              "      <td>Entre 0 y 5 años</td>\n",
              "      <td>61.0</td>\n",
              "      <td>NaN</td>\n",
              "      <td>61.0</td>\n",
              "      <td>NaN</td>\n",
              "      <td>Balcón</td>\n",
              "      <td>1.0</td>\n",
              "      <td>NaN</td>\n",
              "      <td>NaN</td>\n",
              "      <td>...</td>\n",
              "      <td>Entre 0 y 5 años</td>\n",
              "      <td>Independiente</td>\n",
              "      <td>4.950000e+08</td>\n",
              "      <td>4.950000e+08</td>\n",
              "      <td>24hrs</td>\n",
              "      <td>Exterior</td>\n",
              "      <td>NaN</td>\n",
              "      <td>NaN</td>\n",
              "      <td>NaN</td>\n",
              "      <td>NaN</td>\n",
              "    </tr>\n",
              "    <tr>\n",
              "      <th>4</th>\n",
              "      <td>4</td>\n",
              "      <td>Más de 20 años</td>\n",
              "      <td>120.5</td>\n",
              "      <td>NaN</td>\n",
              "      <td>120.5</td>\n",
              "      <td>NaN</td>\n",
              "      <td>NaN</td>\n",
              "      <td>3.0</td>\n",
              "      <td>NaN</td>\n",
              "      <td>NaN</td>\n",
              "      <td>...</td>\n",
              "      <td>Más de 20 años</td>\n",
              "      <td>Servidumbre</td>\n",
              "      <td>8.500000e+08</td>\n",
              "      <td>8.500000e+08</td>\n",
              "      <td>Si</td>\n",
              "      <td>NaN</td>\n",
              "      <td>NaN</td>\n",
              "      <td>Si</td>\n",
              "      <td>NaN</td>\n",
              "      <td>NaN</td>\n",
              "    </tr>\n",
              "    <tr>\n",
              "      <th>...</th>\n",
              "      <td>...</td>\n",
              "      <td>...</td>\n",
              "      <td>...</td>\n",
              "      <td>...</td>\n",
              "      <td>...</td>\n",
              "      <td>...</td>\n",
              "      <td>...</td>\n",
              "      <td>...</td>\n",
              "      <td>...</td>\n",
              "      <td>...</td>\n",
              "      <td>...</td>\n",
              "      <td>...</td>\n",
              "      <td>...</td>\n",
              "      <td>...</td>\n",
              "      <td>...</td>\n",
              "      <td>...</td>\n",
              "      <td>...</td>\n",
              "      <td>...</td>\n",
              "      <td>...</td>\n",
              "      <td>...</td>\n",
              "      <td>...</td>\n",
              "    </tr>\n",
              "    <tr>\n",
              "      <th>145547</th>\n",
              "      <td>145547</td>\n",
              "      <td>Entre 0 y 5 años</td>\n",
              "      <td>118.0</td>\n",
              "      <td>NaN</td>\n",
              "      <td>118.0</td>\n",
              "      <td>NaN</td>\n",
              "      <td>NaN</td>\n",
              "      <td>3.0</td>\n",
              "      <td>NaN</td>\n",
              "      <td>NaN</td>\n",
              "      <td>...</td>\n",
              "      <td>Entre 0 y 5 años</td>\n",
              "      <td>NaN</td>\n",
              "      <td>8.000000e+08</td>\n",
              "      <td>8.000000e+08</td>\n",
              "      <td>NaN</td>\n",
              "      <td>NaN</td>\n",
              "      <td>NaN</td>\n",
              "      <td>Si</td>\n",
              "      <td>NaN</td>\n",
              "      <td>NaN</td>\n",
              "    </tr>\n",
              "    <tr>\n",
              "      <th>145548</th>\n",
              "      <td>145548</td>\n",
              "      <td>Entre 0 y 5 años</td>\n",
              "      <td>89.0</td>\n",
              "      <td>10.00</td>\n",
              "      <td>89.0</td>\n",
              "      <td>10.00</td>\n",
              "      <td>Terraza</td>\n",
              "      <td>3.0</td>\n",
              "      <td>NaN</td>\n",
              "      <td>NaN</td>\n",
              "      <td>...</td>\n",
              "      <td>Entre 0 y 5 años</td>\n",
              "      <td>Propio</td>\n",
              "      <td>3.200000e+08</td>\n",
              "      <td>3.200000e+08</td>\n",
              "      <td>NaN</td>\n",
              "      <td>Exterior</td>\n",
              "      <td>NaN</td>\n",
              "      <td>Si</td>\n",
              "      <td>NaN</td>\n",
              "      <td>NaN</td>\n",
              "    </tr>\n",
              "    <tr>\n",
              "      <th>145549</th>\n",
              "      <td>145549</td>\n",
              "      <td>Entre 0 y 5 años</td>\n",
              "      <td>88.0</td>\n",
              "      <td>NaN</td>\n",
              "      <td>88.0</td>\n",
              "      <td>NaN</td>\n",
              "      <td>NaN</td>\n",
              "      <td>3.0</td>\n",
              "      <td>NaN</td>\n",
              "      <td>NaN</td>\n",
              "      <td>...</td>\n",
              "      <td>Entre 0 y 5 años</td>\n",
              "      <td>NaN</td>\n",
              "      <td>9.500000e+08</td>\n",
              "      <td>9.500000e+08</td>\n",
              "      <td>NaN</td>\n",
              "      <td>NaN</td>\n",
              "      <td>NaN</td>\n",
              "      <td>NaN</td>\n",
              "      <td>NaN</td>\n",
              "      <td>NaN</td>\n",
              "    </tr>\n",
              "    <tr>\n",
              "      <th>145550</th>\n",
              "      <td>145550</td>\n",
              "      <td>Entre 10 y 20 años</td>\n",
              "      <td>173.0</td>\n",
              "      <td>25.68</td>\n",
              "      <td>173.0</td>\n",
              "      <td>25.68</td>\n",
              "      <td>Terraza</td>\n",
              "      <td>3.0</td>\n",
              "      <td>NaN</td>\n",
              "      <td>NaN</td>\n",
              "      <td>...</td>\n",
              "      <td>Entre 10 y 20 años</td>\n",
              "      <td>NaN</td>\n",
              "      <td>1.450000e+09</td>\n",
              "      <td>1.450000e+09</td>\n",
              "      <td>24hrs</td>\n",
              "      <td>Exterior</td>\n",
              "      <td>NaN</td>\n",
              "      <td>Si</td>\n",
              "      <td>NaN</td>\n",
              "      <td>NaN</td>\n",
              "    </tr>\n",
              "    <tr>\n",
              "      <th>145551</th>\n",
              "      <td>145551</td>\n",
              "      <td>Más de 30 años</td>\n",
              "      <td>106.0</td>\n",
              "      <td>NaN</td>\n",
              "      <td>106.0</td>\n",
              "      <td>NaN</td>\n",
              "      <td>Si</td>\n",
              "      <td>2.0</td>\n",
              "      <td>NaN</td>\n",
              "      <td>NaN</td>\n",
              "      <td>...</td>\n",
              "      <td>Más de 20 años</td>\n",
              "      <td>NaN</td>\n",
              "      <td>4.500000e+08</td>\n",
              "      <td>4.500000e+08</td>\n",
              "      <td>NaN</td>\n",
              "      <td>NaN</td>\n",
              "      <td>NaN</td>\n",
              "      <td>NaN</td>\n",
              "      <td>NaN</td>\n",
              "      <td>NaN</td>\n",
              "    </tr>\n",
              "  </tbody>\n",
              "</table>\n",
              "<p>145552 rows × 45 columns</p>\n",
              "</div>\n",
              "    <div class=\"colab-df-buttons\">\n",
              "\n",
              "  <div class=\"colab-df-container\">\n",
              "    <button class=\"colab-df-convert\" onclick=\"convertToInteractive('df-313aacda-caa2-42f6-9927-9d2ed5155ab8')\"\n",
              "            title=\"Convert this dataframe to an interactive table.\"\n",
              "            style=\"display:none;\">\n",
              "\n",
              "  <svg xmlns=\"http://www.w3.org/2000/svg\" height=\"24px\" viewBox=\"0 -960 960 960\">\n",
              "    <path d=\"M120-120v-720h720v720H120Zm60-500h600v-160H180v160Zm220 220h160v-160H400v160Zm0 220h160v-160H400v160ZM180-400h160v-160H180v160Zm440 0h160v-160H620v160ZM180-180h160v-160H180v160Zm440 0h160v-160H620v160Z\"/>\n",
              "  </svg>\n",
              "    </button>\n",
              "\n",
              "  <style>\n",
              "    .colab-df-container {\n",
              "      display:flex;\n",
              "      gap: 12px;\n",
              "    }\n",
              "\n",
              "    .colab-df-convert {\n",
              "      background-color: #E8F0FE;\n",
              "      border: none;\n",
              "      border-radius: 50%;\n",
              "      cursor: pointer;\n",
              "      display: none;\n",
              "      fill: #1967D2;\n",
              "      height: 32px;\n",
              "      padding: 0 0 0 0;\n",
              "      width: 32px;\n",
              "    }\n",
              "\n",
              "    .colab-df-convert:hover {\n",
              "      background-color: #E2EBFA;\n",
              "      box-shadow: 0px 1px 2px rgba(60, 64, 67, 0.3), 0px 1px 3px 1px rgba(60, 64, 67, 0.15);\n",
              "      fill: #174EA6;\n",
              "    }\n",
              "\n",
              "    .colab-df-buttons div {\n",
              "      margin-bottom: 4px;\n",
              "    }\n",
              "\n",
              "    [theme=dark] .colab-df-convert {\n",
              "      background-color: #3B4455;\n",
              "      fill: #D2E3FC;\n",
              "    }\n",
              "\n",
              "    [theme=dark] .colab-df-convert:hover {\n",
              "      background-color: #434B5C;\n",
              "      box-shadow: 0px 1px 3px 1px rgba(0, 0, 0, 0.15);\n",
              "      filter: drop-shadow(0px 1px 2px rgba(0, 0, 0, 0.3));\n",
              "      fill: #FFFFFF;\n",
              "    }\n",
              "  </style>\n",
              "\n",
              "    <script>\n",
              "      const buttonEl =\n",
              "        document.querySelector('#df-313aacda-caa2-42f6-9927-9d2ed5155ab8 button.colab-df-convert');\n",
              "      buttonEl.style.display =\n",
              "        google.colab.kernel.accessAllowed ? 'block' : 'none';\n",
              "\n",
              "      async function convertToInteractive(key) {\n",
              "        const element = document.querySelector('#df-313aacda-caa2-42f6-9927-9d2ed5155ab8');\n",
              "        const dataTable =\n",
              "          await google.colab.kernel.invokeFunction('convertToInteractive',\n",
              "                                                    [key], {});\n",
              "        if (!dataTable) return;\n",
              "\n",
              "        const docLinkHtml = 'Like what you see? Visit the ' +\n",
              "          '<a target=\"_blank\" href=https://colab.research.google.com/notebooks/data_table.ipynb>data table notebook</a>'\n",
              "          + ' to learn more about interactive tables.';\n",
              "        element.innerHTML = '';\n",
              "        dataTable['output_type'] = 'display_data';\n",
              "        await google.colab.output.renderOutput(dataTable, element);\n",
              "        const docLink = document.createElement('div');\n",
              "        docLink.innerHTML = docLinkHtml;\n",
              "        element.appendChild(docLink);\n",
              "      }\n",
              "    </script>\n",
              "  </div>\n",
              "\n",
              "\n",
              "<div id=\"df-600dc305-d77f-474a-9672-4933ef2aaa39\">\n",
              "  <button class=\"colab-df-quickchart\" onclick=\"quickchart('df-600dc305-d77f-474a-9672-4933ef2aaa39')\"\n",
              "            title=\"Suggest charts\"\n",
              "            style=\"display:none;\">\n",
              "\n",
              "<svg xmlns=\"http://www.w3.org/2000/svg\" height=\"24px\"viewBox=\"0 0 24 24\"\n",
              "     width=\"24px\">\n",
              "    <g>\n",
              "        <path d=\"M19 3H5c-1.1 0-2 .9-2 2v14c0 1.1.9 2 2 2h14c1.1 0 2-.9 2-2V5c0-1.1-.9-2-2-2zM9 17H7v-7h2v7zm4 0h-2V7h2v10zm4 0h-2v-4h2v4z\"/>\n",
              "    </g>\n",
              "</svg>\n",
              "  </button>\n",
              "\n",
              "<style>\n",
              "  .colab-df-quickchart {\n",
              "      --bg-color: #E8F0FE;\n",
              "      --fill-color: #1967D2;\n",
              "      --hover-bg-color: #E2EBFA;\n",
              "      --hover-fill-color: #174EA6;\n",
              "      --disabled-fill-color: #AAA;\n",
              "      --disabled-bg-color: #DDD;\n",
              "  }\n",
              "\n",
              "  [theme=dark] .colab-df-quickchart {\n",
              "      --bg-color: #3B4455;\n",
              "      --fill-color: #D2E3FC;\n",
              "      --hover-bg-color: #434B5C;\n",
              "      --hover-fill-color: #FFFFFF;\n",
              "      --disabled-bg-color: #3B4455;\n",
              "      --disabled-fill-color: #666;\n",
              "  }\n",
              "\n",
              "  .colab-df-quickchart {\n",
              "    background-color: var(--bg-color);\n",
              "    border: none;\n",
              "    border-radius: 50%;\n",
              "    cursor: pointer;\n",
              "    display: none;\n",
              "    fill: var(--fill-color);\n",
              "    height: 32px;\n",
              "    padding: 0;\n",
              "    width: 32px;\n",
              "  }\n",
              "\n",
              "  .colab-df-quickchart:hover {\n",
              "    background-color: var(--hover-bg-color);\n",
              "    box-shadow: 0 1px 2px rgba(60, 64, 67, 0.3), 0 1px 3px 1px rgba(60, 64, 67, 0.15);\n",
              "    fill: var(--button-hover-fill-color);\n",
              "  }\n",
              "\n",
              "  .colab-df-quickchart-complete:disabled,\n",
              "  .colab-df-quickchart-complete:disabled:hover {\n",
              "    background-color: var(--disabled-bg-color);\n",
              "    fill: var(--disabled-fill-color);\n",
              "    box-shadow: none;\n",
              "  }\n",
              "\n",
              "  .colab-df-spinner {\n",
              "    border: 2px solid var(--fill-color);\n",
              "    border-color: transparent;\n",
              "    border-bottom-color: var(--fill-color);\n",
              "    animation:\n",
              "      spin 1s steps(1) infinite;\n",
              "  }\n",
              "\n",
              "  @keyframes spin {\n",
              "    0% {\n",
              "      border-color: transparent;\n",
              "      border-bottom-color: var(--fill-color);\n",
              "      border-left-color: var(--fill-color);\n",
              "    }\n",
              "    20% {\n",
              "      border-color: transparent;\n",
              "      border-left-color: var(--fill-color);\n",
              "      border-top-color: var(--fill-color);\n",
              "    }\n",
              "    30% {\n",
              "      border-color: transparent;\n",
              "      border-left-color: var(--fill-color);\n",
              "      border-top-color: var(--fill-color);\n",
              "      border-right-color: var(--fill-color);\n",
              "    }\n",
              "    40% {\n",
              "      border-color: transparent;\n",
              "      border-right-color: var(--fill-color);\n",
              "      border-top-color: var(--fill-color);\n",
              "    }\n",
              "    60% {\n",
              "      border-color: transparent;\n",
              "      border-right-color: var(--fill-color);\n",
              "    }\n",
              "    80% {\n",
              "      border-color: transparent;\n",
              "      border-right-color: var(--fill-color);\n",
              "      border-bottom-color: var(--fill-color);\n",
              "    }\n",
              "    90% {\n",
              "      border-color: transparent;\n",
              "      border-bottom-color: var(--fill-color);\n",
              "    }\n",
              "  }\n",
              "</style>\n",
              "\n",
              "  <script>\n",
              "    async function quickchart(key) {\n",
              "      const quickchartButtonEl =\n",
              "        document.querySelector('#' + key + ' button');\n",
              "      quickchartButtonEl.disabled = true;  // To prevent multiple clicks.\n",
              "      quickchartButtonEl.classList.add('colab-df-spinner');\n",
              "      try {\n",
              "        const charts = await google.colab.kernel.invokeFunction(\n",
              "            'suggestCharts', [key], {});\n",
              "      } catch (error) {\n",
              "        console.error('Error during call to suggestCharts:', error);\n",
              "      }\n",
              "      quickchartButtonEl.classList.remove('colab-df-spinner');\n",
              "      quickchartButtonEl.classList.add('colab-df-quickchart-complete');\n",
              "    }\n",
              "    (() => {\n",
              "      let quickchartButtonEl =\n",
              "        document.querySelector('#df-600dc305-d77f-474a-9672-4933ef2aaa39 button');\n",
              "      quickchartButtonEl.style.display =\n",
              "        google.colab.kernel.accessAllowed ? 'block' : 'none';\n",
              "    })();\n",
              "  </script>\n",
              "</div>\n",
              "\n",
              "  <div id=\"id_3b477b70-9ca1-4b37-8170-73d8b65efcc9\">\n",
              "    <style>\n",
              "      .colab-df-generate {\n",
              "        background-color: #E8F0FE;\n",
              "        border: none;\n",
              "        border-radius: 50%;\n",
              "        cursor: pointer;\n",
              "        display: none;\n",
              "        fill: #1967D2;\n",
              "        height: 32px;\n",
              "        padding: 0 0 0 0;\n",
              "        width: 32px;\n",
              "      }\n",
              "\n",
              "      .colab-df-generate:hover {\n",
              "        background-color: #E2EBFA;\n",
              "        box-shadow: 0px 1px 2px rgba(60, 64, 67, 0.3), 0px 1px 3px 1px rgba(60, 64, 67, 0.15);\n",
              "        fill: #174EA6;\n",
              "      }\n",
              "\n",
              "      [theme=dark] .colab-df-generate {\n",
              "        background-color: #3B4455;\n",
              "        fill: #D2E3FC;\n",
              "      }\n",
              "\n",
              "      [theme=dark] .colab-df-generate:hover {\n",
              "        background-color: #434B5C;\n",
              "        box-shadow: 0px 1px 3px 1px rgba(0, 0, 0, 0.15);\n",
              "        filter: drop-shadow(0px 1px 2px rgba(0, 0, 0, 0.3));\n",
              "        fill: #FFFFFF;\n",
              "      }\n",
              "    </style>\n",
              "    <button class=\"colab-df-generate\" onclick=\"generateWithVariable('df_inmobiliario')\"\n",
              "            title=\"Generate code using this dataframe.\"\n",
              "            style=\"display:none;\">\n",
              "\n",
              "  <svg xmlns=\"http://www.w3.org/2000/svg\" height=\"24px\"viewBox=\"0 0 24 24\"\n",
              "       width=\"24px\">\n",
              "    <path d=\"M7,19H8.4L18.45,9,17,7.55,7,17.6ZM5,21V16.75L18.45,3.32a2,2,0,0,1,2.83,0l1.4,1.43a1.91,1.91,0,0,1,.58,1.4,1.91,1.91,0,0,1-.58,1.4L9.25,21ZM18.45,9,17,7.55Zm-12,3A5.31,5.31,0,0,0,4.9,8.1,5.31,5.31,0,0,0,1,6.5,5.31,5.31,0,0,0,4.9,4.9,5.31,5.31,0,0,0,6.5,1,5.31,5.31,0,0,0,8.1,4.9,5.31,5.31,0,0,0,12,6.5,5.46,5.46,0,0,0,6.5,12Z\"/>\n",
              "  </svg>\n",
              "    </button>\n",
              "    <script>\n",
              "      (() => {\n",
              "      const buttonEl =\n",
              "        document.querySelector('#id_3b477b70-9ca1-4b37-8170-73d8b65efcc9 button.colab-df-generate');\n",
              "      buttonEl.style.display =\n",
              "        google.colab.kernel.accessAllowed ? 'block' : 'none';\n",
              "\n",
              "      buttonEl.onclick = () => {\n",
              "        google.colab.notebook.generateWithVariable('df_inmobiliario');\n",
              "      }\n",
              "      })();\n",
              "    </script>\n",
              "  </div>\n",
              "\n",
              "    </div>\n",
              "  </div>\n"
            ],
            "application/vnd.google.colaboratory.intrinsic+json": {
              "type": "dataframe",
              "variable_name": "df_inmobiliario"
            }
          },
          "metadata": {},
          "execution_count": 76
        }
      ]
    },
    {
      "cell_type": "markdown",
      "source": [
        "**Imprimimos la informacion del DataSet**"
      ],
      "metadata": {
        "id": "exob_SJSF3Ss"
      }
    },
    {
      "cell_type": "code",
      "source": [
        "df_inmobiliario.info()"
      ],
      "metadata": {
        "colab": {
          "base_uri": "https://localhost:8080/"
        },
        "id": "ZjvLlz4cTf32",
        "outputId": "76842f79-6078-4a88-8dc4-c84360940cf9"
      },
      "execution_count": 77,
      "outputs": [
        {
          "output_type": "stream",
          "name": "stdout",
          "text": [
            "<class 'pandas.core.frame.DataFrame'>\n",
            "RangeIndex: 145552 entries, 0 to 145551\n",
            "Data columns (total 45 columns):\n",
            " #   Column                 Non-Null Count   Dtype  \n",
            "---  ------                 --------------   -----  \n",
            " 0   Unnamed: 0             145552 non-null  int64  \n",
            " 1   antiguedad_original    145552 non-null  object \n",
            " 2   area                   145528 non-null  float64\n",
            " 3   areabalcon             24357 non-null   float64\n",
            " 4   areaconstruida         145528 non-null  float64\n",
            " 5   areaterraza            24357 non-null   float64\n",
            " 6   balcon                 78145 non-null   object \n",
            " 7   banos                  145016 non-null  float64\n",
            " 8   banoservicio           1116 non-null    object \n",
            " 9   conjuntocerrado        67528 non-null   object \n",
            " 10  cuarto_de_escoltas     3734 non-null    object \n",
            " 11  cuartodeservicio       28343 non-null   object \n",
            " 12  depositoocuartoutil    57456 non-null   object \n",
            " 13  depositos              41538 non-null   object \n",
            " 14  estrato                138885 non-null  float64\n",
            " 15  estudioobiblioteca     59568 non-null   object \n",
            " 16  garajecubierto         71446 non-null   object \n",
            " 17  garajes                131688 non-null  float64\n",
            " 18  gimnasio               40744 non-null   object \n",
            " 19  habitaciones           145540 non-null  float64\n",
            " 20  halldealcobasoestar    47792 non-null   object \n",
            " 21  instalaciondegas       98550 non-null   object \n",
            " 22  jacuzzi                6080 non-null    object \n",
            " 23  jardin                 6227 non-null    object \n",
            " 24  latitud                145552 non-null  float64\n",
            " 25  longitud               145552 non-null  float64\n",
            " 26  numeroascensores       83635 non-null   float64\n",
            " 27  parqueaderovisitantes  17565 non-null   object \n",
            " 28  piscina                12347 non-null   object \n",
            " 29  plantaelectrica        2278 non-null    object \n",
            " 30  porteriaovigilancia    89792 non-null   object \n",
            " 31  remodelado             145552 non-null  object \n",
            " 32  saloncomunal           80871 non-null   object \n",
            " 33  sauna_yo_turco         10136 non-null   object \n",
            " 34  terraza                73272 non-null   object \n",
            " 35  tiempodeconstruido     145552 non-null  object \n",
            " 36  tipodegaraje           70595 non-null   object \n",
            " 37  valor                  145552 non-null  float64\n",
            " 38  valorventa             145552 non-null  float64\n",
            " 39  vigilancia             99098 non-null   object \n",
            " 40  vista                  78770 non-null   object \n",
            " 41  zona_de_bbq            24867 non-null   object \n",
            " 42  zonadelavanderia       98848 non-null   object \n",
            " 43  zonaninos              54073 non-null   object \n",
            " 44  zonasverdes            49909 non-null   object \n",
            "dtypes: float64(13), int64(1), object(31)\n",
            "memory usage: 50.0+ MB\n"
          ]
        }
      ]
    },
    {
      "cell_type": "markdown",
      "source": [
        "**Realizamos un heatmap para ver los nulos de cada columna**"
      ],
      "metadata": {
        "id": "BDFv9c9cGjFo"
      }
    },
    {
      "cell_type": "code",
      "source": [
        "sns.heatmap(df_inmobiliario.isnull(), cbar=False)"
      ],
      "metadata": {
        "colab": {
          "base_uri": "https://localhost:8080/",
          "height": 581
        },
        "id": "wZWnOc3kGgfW",
        "outputId": "dc78c7e1-5c12-4e45-ecdc-c93f1746d466"
      },
      "execution_count": 78,
      "outputs": [
        {
          "output_type": "execute_result",
          "data": {
            "text/plain": [
              "<Axes: >"
            ]
          },
          "metadata": {},
          "execution_count": 78
        },
        {
          "output_type": "display_data",
          "data": {
            "text/plain": [
              "<Figure size 640x480 with 1 Axes>"
            ],
            "image/png": "[encoded data removed]"
          },
          "metadata": {}
        }
      ]
    },
    {
      "cell_type": "markdown",
      "source": [
        "**Selección de variables que se toman para el estudio (seleccionadas debido a que son las variables fisicas con menos nulos, por lo que pueden ser mas exactas)**"
      ],
      "metadata": {
        "id": "VWJ7MpkzGjZN"
      }
    },
    {
      "cell_type": "code",
      "source": [
        "df_variablesEstudio=df_inmobiliario[['area', 'areaconstruida','banos','estrato', 'habitaciones','garajes','valor']]\n",
        "df_variablesEstudio.info()"
      ],
      "metadata": {
        "colab": {
          "base_uri": "https://localhost:8080/"
        },
        "id": "Hxvp5DymTi6Z",
        "outputId": "ffe4aabf-93d5-4055-a66a-51a89d9e71da"
      },
      "execution_count": 79,
      "outputs": [
        {
          "output_type": "stream",
          "name": "stdout",
          "text": [
            "<class 'pandas.core.frame.DataFrame'>\n",
            "RangeIndex: 145552 entries, 0 to 145551\n",
            "Data columns (total 7 columns):\n",
            " #   Column          Non-Null Count   Dtype  \n",
            "---  ------          --------------   -----  \n",
            " 0   area            145528 non-null  float64\n",
            " 1   areaconstruida  145528 non-null  float64\n",
            " 2   banos           145016 non-null  float64\n",
            " 3   estrato         138885 non-null  float64\n",
            " 4   habitaciones    145540 non-null  float64\n",
            " 5   garajes         131688 non-null  float64\n",
            " 6   valor           145552 non-null  float64\n",
            "dtypes: float64(7)\n",
            "memory usage: 7.8 MB\n"
          ]
        }
      ]
    },
    {
      "cell_type": "markdown",
      "source": [
        "**Realizamos un describe para analizar la estadistica basica de cada columna**"
      ],
      "metadata": {
        "id": "-gOGXBIXvAbs"
      }
    },
    {
      "cell_type": "code",
      "source": [
        "df_variablesEstudio.describe()"
      ],
      "metadata": {
        "colab": {
          "base_uri": "https://localhost:8080/",
          "height": 300
        },
        "id": "TuQa_-kaTpjF",
        "outputId": "7b653462-2607-4f80-a176-565befe5bebe"
      },
      "execution_count": 80,
      "outputs": [
        {
          "output_type": "execute_result",
          "data": {
            "text/plain": [
              "                area  areaconstruida          banos        estrato  \\\n",
              "count  145528.000000   145528.000000  145016.000000  138885.000000   \n",
              "mean      137.033261      137.033261       2.593004       4.768557   \n",
              "std      2130.744767     2130.744767       1.029160       1.146063   \n",
              "min         0.000000        0.000000       0.000000       1.000000   \n",
              "25%        66.980000       66.980000       2.000000       4.000000   \n",
              "50%        92.000000       92.000000       2.000000       5.000000   \n",
              "75%       138.000000      138.000000       3.000000       6.000000   \n",
              "max    570000.000000   570000.000000      52.000000       7.000000   \n",
              "\n",
              "        habitaciones        garajes         valor  \n",
              "count  145540.000000  131688.000000  1.455520e+05  \n",
              "mean        2.606651       1.750683  1.401152e+09  \n",
              "std         0.865364       0.773695  2.829434e+10  \n",
              "min         0.000000       1.000000  0.000000e+00  \n",
              "25%         2.000000       1.000000  3.200000e+08  \n",
              "50%         3.000000       2.000000  4.900000e+08  \n",
              "75%         3.000000       2.000000  8.200000e+08  \n",
              "max        86.000000      10.000000  4.100000e+12  "
            ],
            "text/html": [
              "\n",
              "  <div id=\"df-e328b17b-be41-48b3-8af2-0af4ded57f2e\" class=\"colab-df-container\">\n",
              "    <div>\n",
              "<style scoped>\n",
              "    .dataframe tbody tr th:only-of-type {\n",
              "        vertical-align: middle;\n",
              "    }\n",
              "\n",
              "    .dataframe tbody tr th {\n",
              "        vertical-align: top;\n",
              "    }\n",
              "\n",
              "    .dataframe thead th {\n",
              "        text-align: right;\n",
              "    }\n",
              "</style>\n",
              "<table border=\"1\" class=\"dataframe\">\n",
              "  <thead>\n",
              "    <tr style=\"text-align: right;\">\n",
              "      <th></th>\n",
              "      <th>area</th>\n",
              "      <th>areaconstruida</th>\n",
              "      <th>banos</th>\n",
              "      <th>estrato</th>\n",
              "      <th>habitaciones</th>\n",
              "      <th>garajes</th>\n",
              "      <th>valor</th>\n",
              "    </tr>\n",
              "  </thead>\n",
              "  <tbody>\n",
              "    <tr>\n",
              "      <th>count</th>\n",
              "      <td>145528.000000</td>\n",
              "      <td>145528.000000</td>\n",
              "      <td>145016.000000</td>\n",
              "      <td>138885.000000</td>\n",
              "      <td>145540.000000</td>\n",
              "      <td>131688.000000</td>\n",
              "      <td>1.455520e+05</td>\n",
              "    </tr>\n",
              "    <tr>\n",
              "      <th>mean</th>\n",
              "      <td>137.033261</td>\n",
              "      <td>137.033261</td>\n",
              "      <td>2.593004</td>\n",
              "      <td>4.768557</td>\n",
              "      <td>2.606651</td>\n",
              "      <td>1.750683</td>\n",
              "      <td>1.401152e+09</td>\n",
              "    </tr>\n",
              "    <tr>\n",
              "      <th>std</th>\n",
              "      <td>2130.744767</td>\n",
              "      <td>2130.744767</td>\n",
              "      <td>1.029160</td>\n",
              "      <td>1.146063</td>\n",
              "      <td>0.865364</td>\n",
              "      <td>0.773695</td>\n",
              "      <td>2.829434e+10</td>\n",
              "    </tr>\n",
              "    <tr>\n",
              "      <th>min</th>\n",
              "      <td>0.000000</td>\n",
              "      <td>0.000000</td>\n",
              "      <td>0.000000</td>\n",
              "      <td>1.000000</td>\n",
              "      <td>0.000000</td>\n",
              "      <td>1.000000</td>\n",
              "      <td>0.000000e+00</td>\n",
              "    </tr>\n",
              "    <tr>\n",
              "      <th>25%</th>\n",
              "      <td>66.980000</td>\n",
              "      <td>66.980000</td>\n",
              "      <td>2.000000</td>\n",
              "      <td>4.000000</td>\n",
              "      <td>2.000000</td>\n",
              "      <td>1.000000</td>\n",
              "      <td>3.200000e+08</td>\n",
              "    </tr>\n",
              "    <tr>\n",
              "      <th>50%</th>\n",
              "      <td>92.000000</td>\n",
              "      <td>92.000000</td>\n",
              "      <td>2.000000</td>\n",
              "      <td>5.000000</td>\n",
              "      <td>3.000000</td>\n",
              "      <td>2.000000</td>\n",
              "      <td>4.900000e+08</td>\n",
              "    </tr>\n",
              "    <tr>\n",
              "      <th>75%</th>\n",
              "      <td>138.000000</td>\n",
              "      <td>138.000000</td>\n",
              "      <td>3.000000</td>\n",
              "      <td>6.000000</td>\n",
              "      <td>3.000000</td>\n",
              "      <td>2.000000</td>\n",
              "      <td>8.200000e+08</td>\n",
              "    </tr>\n",
              "    <tr>\n",
              "      <th>max</th>\n",
              "      <td>570000.000000</td>\n",
              "      <td>570000.000000</td>\n",
              "      <td>52.000000</td>\n",
              "      <td>7.000000</td>\n",
              "      <td>86.000000</td>\n",
              "      <td>10.000000</td>\n",
              "      <td>4.100000e+12</td>\n",
              "    </tr>\n",
              "  </tbody>\n",
              "</table>\n",
              "</div>\n",
              "    <div class=\"colab-df-buttons\">\n",
              "\n",
              "  <div class=\"colab-df-container\">\n",
              "    <button class=\"colab-df-convert\" onclick=\"convertToInteractive('df-e328b17b-be41-48b3-8af2-0af4ded57f2e')\"\n",
              "            title=\"Convert this dataframe to an interactive table.\"\n",
              "            style=\"display:none;\">\n",
              "\n",
              "  <svg xmlns=\"http://www.w3.org/2000/svg\" height=\"24px\" viewBox=\"0 -960 960 960\">\n",
              "    <path d=\"M120-120v-720h720v720H120Zm60-500h600v-160H180v160Zm220 220h160v-160H400v160Zm0 220h160v-160H400v160ZM180-400h160v-160H180v160Zm440 0h160v-160H620v160ZM180-180h160v-160H180v160Zm440 0h160v-160H620v160Z\"/>\n",
              "  </svg>\n",
              "    </button>\n",
              "\n",
              "  <style>\n",
              "    .colab-df-container {\n",
              "      display:flex;\n",
              "      gap: 12px;\n",
              "    }\n",
              "\n",
              "    .colab-df-convert {\n",
              "      background-color: #E8F0FE;\n",
              "      border: none;\n",
              "      border-radius: 50%;\n",
              "      cursor: pointer;\n",
              "      display: none;\n",
              "      fill: #1967D2;\n",
              "      height: 32px;\n",
              "      padding: 0 0 0 0;\n",
              "      width: 32px;\n",
              "    }\n",
              "\n",
              "    .colab-df-convert:hover {\n",
              "      background-color: #E2EBFA;\n",
              "      box-shadow: 0px 1px 2px rgba(60, 64, 67, 0.3), 0px 1px 3px 1px rgba(60, 64, 67, 0.15);\n",
              "      fill: #174EA6;\n",
              "    }\n",
              "\n",
              "    .colab-df-buttons div {\n",
              "      margin-bottom: 4px;\n",
              "    }\n",
              "\n",
              "    [theme=dark] .colab-df-convert {\n",
              "      background-color: #3B4455;\n",
              "      fill: #D2E3FC;\n",
              "    }\n",
              "\n",
              "    [theme=dark] .colab-df-convert:hover {\n",
              "      background-color: #434B5C;\n",
              "      box-shadow: 0px 1px 3px 1px rgba(0, 0, 0, 0.15);\n",
              "      filter: drop-shadow(0px 1px 2px rgba(0, 0, 0, 0.3));\n",
              "      fill: #FFFFFF;\n",
              "    }\n",
              "  </style>\n",
              "\n",
              "    <script>\n",
              "      const buttonEl =\n",
              "        document.querySelector('#df-e328b17b-be41-48b3-8af2-0af4ded57f2e button.colab-df-convert');\n",
              "      buttonEl.style.display =\n",
              "        google.colab.kernel.accessAllowed ? 'block' : 'none';\n",
              "\n",
              "      async function convertToInteractive(key) {\n",
              "        const element = document.querySelector('#df-e328b17b-be41-48b3-8af2-0af4ded57f2e');\n",
              "        const dataTable =\n",
              "          await google.colab.kernel.invokeFunction('convertToInteractive',\n",
              "                                                    [key], {});\n",
              "        if (!dataTable) return;\n",
              "\n",
              "        const docLinkHtml = 'Like what you see? Visit the ' +\n",
              "          '<a target=\"_blank\" href=https://colab.research.google.com/notebooks/data_table.ipynb>data table notebook</a>'\n",
              "          + ' to learn more about interactive tables.';\n",
              "        element.innerHTML = '';\n",
              "        dataTable['output_type'] = 'display_data';\n",
              "        await google.colab.output.renderOutput(dataTable, element);\n",
              "        const docLink = document.createElement('div');\n",
              "        docLink.innerHTML = docLinkHtml;\n",
              "        element.appendChild(docLink);\n",
              "      }\n",
              "    </script>\n",
              "  </div>\n",
              "\n",
              "\n",
              "<div id=\"df-346b6dae-f232-4996-99fd-26f907edfa98\">\n",
              "  <button class=\"colab-df-quickchart\" onclick=\"quickchart('df-346b6dae-f232-4996-99fd-26f907edfa98')\"\n",
              "            title=\"Suggest charts\"\n",
              "            style=\"display:none;\">\n",
              "\n",
              "<svg xmlns=\"http://www.w3.org/2000/svg\" height=\"24px\"viewBox=\"0 0 24 24\"\n",
              "     width=\"24px\">\n",
              "    <g>\n",
              "        <path d=\"M19 3H5c-1.1 0-2 .9-2 2v14c0 1.1.9 2 2 2h14c1.1 0 2-.9 2-2V5c0-1.1-.9-2-2-2zM9 17H7v-7h2v7zm4 0h-2V7h2v10zm4 0h-2v-4h2v4z\"/>\n",
              "    </g>\n",
              "</svg>\n",
              "  </button>\n",
              "\n",
              "<style>\n",
              "  .colab-df-quickchart {\n",
              "      --bg-color: #E8F0FE;\n",
              "      --fill-color: #1967D2;\n",
              "      --hover-bg-color: #E2EBFA;\n",
              "      --hover-fill-color: #174EA6;\n",
              "      --disabled-fill-color: #AAA;\n",
              "      --disabled-bg-color: #DDD;\n",
              "  }\n",
              "\n",
              "  [theme=dark] .colab-df-quickchart {\n",
              "      --bg-color: #3B4455;\n",
              "      --fill-color: #D2E3FC;\n",
              "      --hover-bg-color: #434B5C;\n",
              "      --hover-fill-color: #FFFFFF;\n",
              "      --disabled-bg-color: #3B4455;\n",
              "      --disabled-fill-color: #666;\n",
              "  }\n",
              "\n",
              "  .colab-df-quickchart {\n",
              "    background-color: var(--bg-color);\n",
              "    border: none;\n",
              "    border-radius: 50%;\n",
              "    cursor: pointer;\n",
              "    display: none;\n",
              "    fill: var(--fill-color);\n",
              "    height: 32px;\n",
              "    padding: 0;\n",
              "    width: 32px;\n",
              "  }\n",
              "\n",
              "  .colab-df-quickchart:hover {\n",
              "    background-color: var(--hover-bg-color);\n",
              "    box-shadow: 0 1px 2px rgba(60, 64, 67, 0.3), 0 1px 3px 1px rgba(60, 64, 67, 0.15);\n",
              "    fill: var(--button-hover-fill-color);\n",
              "  }\n",
              "\n",
              "  .colab-df-quickchart-complete:disabled,\n",
              "  .colab-df-quickchart-complete:disabled:hover {\n",
              "    background-color: var(--disabled-bg-color);\n",
              "    fill: var(--disabled-fill-color);\n",
              "    box-shadow: none;\n",
              "  }\n",
              "\n",
              "  .colab-df-spinner {\n",
              "    border: 2px solid var(--fill-color);\n",
              "    border-color: transparent;\n",
              "    border-bottom-color: var(--fill-color);\n",
              "    animation:\n",
              "      spin 1s steps(1) infinite;\n",
              "  }\n",
              "\n",
              "  @keyframes spin {\n",
              "    0% {\n",
              "      border-color: transparent;\n",
              "      border-bottom-color: var(--fill-color);\n",
              "      border-left-color: var(--fill-color);\n",
              "    }\n",
              "    20% {\n",
              "      border-color: transparent;\n",
              "      border-left-color: var(--fill-color);\n",
              "      border-top-color: var(--fill-color);\n",
              "    }\n",
              "    30% {\n",
              "      border-color: transparent;\n",
              "      border-left-color: var(--fill-color);\n",
              "      border-top-color: var(--fill-color);\n",
              "      border-right-color: var(--fill-color);\n",
              "    }\n",
              "    40% {\n",
              "      border-color: transparent;\n",
              "      border-right-color: var(--fill-color);\n",
              "      border-top-color: var(--fill-color);\n",
              "    }\n",
              "    60% {\n",
              "      border-color: transparent;\n",
              "      border-right-color: var(--fill-color);\n",
              "    }\n",
              "    80% {\n",
              "      border-color: transparent;\n",
              "      border-right-color: var(--fill-color);\n",
              "      border-bottom-color: var(--fill-color);\n",
              "    }\n",
              "    90% {\n",
              "      border-color: transparent;\n",
              "      border-bottom-color: var(--fill-color);\n",
              "    }\n",
              "  }\n",
              "</style>\n",
              "\n",
              "  <script>\n",
              "    async function quickchart(key) {\n",
              "      const quickchartButtonEl =\n",
              "        document.querySelector('#' + key + ' button');\n",
              "      quickchartButtonEl.disabled = true;  // To prevent multiple clicks.\n",
              "      quickchartButtonEl.classList.add('colab-df-spinner');\n",
              "      try {\n",
              "        const charts = await google.colab.kernel.invokeFunction(\n",
              "            'suggestCharts', [key], {});\n",
              "      } catch (error) {\n",
              "        console.error('Error during call to suggestCharts:', error);\n",
              "      }\n",
              "      quickchartButtonEl.classList.remove('colab-df-spinner');\n",
              "      quickchartButtonEl.classList.add('colab-df-quickchart-complete');\n",
              "    }\n",
              "    (() => {\n",
              "      let quickchartButtonEl =\n",
              "        document.querySelector('#df-346b6dae-f232-4996-99fd-26f907edfa98 button');\n",
              "      quickchartButtonEl.style.display =\n",
              "        google.colab.kernel.accessAllowed ? 'block' : 'none';\n",
              "    })();\n",
              "  </script>\n",
              "</div>\n",
              "\n",
              "    </div>\n",
              "  </div>\n"
            ],
            "application/vnd.google.colaboratory.intrinsic+json": {
              "type": "dataframe",
              "summary": "{\n  \"name\": \"df_variablesEstudio\",\n  \"rows\": 8,\n  \"fields\": [\n    {\n      \"column\": \"area\",\n      \"properties\": {\n        \"dtype\": \"number\",\n        \"std\": 200579.81613605068,\n        \"min\": 0.0,\n        \"max\": 570000.0,\n        \"num_unique_values\": 8,\n        \"samples\": [\n          137.03326095321862,\n          92.0,\n          145528.0\n        ],\n        \"semantic_type\": \"\",\n        \"description\": \"\"\n      }\n    },\n    {\n      \"column\": \"areaconstruida\",\n      \"properties\": {\n        \"dtype\": \"number\",\n        \"std\": 200579.81613605068,\n        \"min\": 0.0,\n        \"max\": 570000.0,\n        \"num_unique_values\": 8,\n        \"samples\": [\n          137.03326095321862,\n          92.0,\n          145528.0\n        ],\n        \"semantic_type\": \"\",\n        \"description\": \"\"\n      }\n    },\n    {\n      \"column\": \"banos\",\n      \"properties\": {\n        \"dtype\": \"number\",\n        \"std\": 51267.73861471143,\n        \"min\": 0.0,\n        \"max\": 145016.0,\n        \"num_unique_values\": 7,\n        \"samples\": [\n          145016.0,\n          2.593003530644894,\n          3.0\n        ],\n        \"semantic_type\": \"\",\n        \"description\": \"\"\n      }\n    },\n    {\n      \"column\": \"estrato\",\n      \"properties\": {\n        \"dtype\": \"number\",\n        \"std\": 49101.80228972803,\n        \"min\": 1.0,\n        \"max\": 138885.0,\n        \"num_unique_values\": 8,\n        \"samples\": [\n          4.768556719588148,\n          5.0,\n          138885.0\n        ],\n        \"semantic_type\": \"\",\n        \"description\": \"\"\n      }\n    },\n    {\n      \"column\": \"habitaciones\",\n      \"properties\": {\n        \"dtype\": \"number\",\n        \"std\": 51451.24581120974,\n        \"min\": 0.0,\n        \"max\": 145540.0,\n        \"num_unique_values\": 7,\n        \"samples\": [\n          145540.0,\n          2.6066510924831663,\n          3.0\n        ],\n        \"semantic_type\": \"\",\n        \"description\": \"\"\n      }\n    },\n    {\n      \"column\": \"garajes\",\n      \"properties\": {\n        \"dtype\": \"number\",\n        \"std\": 46557.80337719944,\n        \"min\": 0.7736953912671474,\n        \"max\": 131688.0,\n        \"num_unique_values\": 6,\n        \"samples\": [\n          131688.0,\n          1.750683433570257,\n          10.0\n        ],\n        \"semantic_type\": \"\",\n        \"description\": \"\"\n      }\n    },\n    {\n      \"column\": \"valor\",\n      \"properties\": {\n        \"dtype\": \"number\",\n        \"std\": 1448019440714.4324,\n        \"min\": 0.0,\n        \"max\": 4100000000000.0,\n        \"num_unique_values\": 8,\n        \"samples\": [\n          1401152231.801047,\n          490000000.0,\n          145552.0\n        ],\n        \"semantic_type\": \"\",\n        \"description\": \"\"\n      }\n    }\n  ]\n}"
            }
          },
          "metadata": {},
          "execution_count": 80
        }
      ]
    },
    {
      "cell_type": "markdown",
      "source": [
        "**Realizamos la matriz de correlacion entre las columnas para analizar su comportamiento**"
      ],
      "metadata": {
        "id": "D8Ya1_NWvJE-"
      }
    },
    {
      "cell_type": "code",
      "source": [
        "# Generar la matriz de correlación solo para columnas numéricas\n",
        "correlation_matrix = df_variablesEstudio.corr()\n",
        "\n",
        "# Mostrar la matriz de correlación\n",
        "print(correlation_matrix)\n",
        "\n",
        "# Visualizar la matriz con un mapa de calor\n",
        "plt.figure(figsize=(10,8))\n",
        "sns.heatmap(correlation_matrix, annot=True, cmap='coolwarm', linewidths=0.5)\n",
        "plt.title('Matriz de Correlación')\n",
        "plt.show()"
      ],
      "metadata": {
        "colab": {
          "base_uri": "https://localhost:8080/",
          "height": 1000
        },
        "id": "IuL6Yk7DtvSU",
        "outputId": "214b1dc4-e14d-4a76-99b0-69f47ef67c09"
      },
      "execution_count": 81,
      "outputs": [
        {
          "output_type": "stream",
          "name": "stdout",
          "text": [
            "                    area  areaconstruida     banos   estrato  habitaciones  \\\n",
            "area            1.000000        1.000000  0.024480  0.013047      0.018882   \n",
            "areaconstruida  1.000000        1.000000  0.024480  0.013047      0.018882   \n",
            "banos           0.024480        0.024480  1.000000  0.499191      0.475339   \n",
            "estrato         0.013047        0.013047  0.499191  1.000000     -0.005014   \n",
            "habitaciones    0.018882        0.018882  0.475339 -0.005014      1.000000   \n",
            "garajes         0.040061        0.040061  0.639138  0.522280      0.296917   \n",
            "valor           0.001224        0.001224  0.027711  0.027941      0.001151   \n",
            "\n",
            "                 garajes     valor  \n",
            "area            0.040061  0.001224  \n",
            "areaconstruida  0.040061  0.001224  \n",
            "banos           0.639138  0.027711  \n",
            "estrato         0.522280  0.027941  \n",
            "habitaciones    0.296917  0.001151  \n",
            "garajes         1.000000  0.019328  \n",
            "valor           0.019328  1.000000  \n"
          ]
        },
        {
          "output_type": "display_data",
          "data": {
            "text/plain": [
              "<Figure size 1000x800 with 2 Axes>"
            ],
            "image/png": "[encoded data removed]"
          },
          "metadata": {}
        }
      ]
    },
    {
      "cell_type": "markdown",
      "source": [
        "**Realizamos un histograma de cada columna para analizar el comportamiento**"
      ],
      "metadata": {
        "id": "GVvdPJrcvTuw"
      }
    },
    {
      "cell_type": "code",
      "source": [
        "# Lista de columnas a graficar\n",
        "columns_to_plot = ['area', 'areaconstruida', 'banos', 'estrato', 'habitaciones', 'garajes', 'valor']\n",
        "\n",
        "# Calcular el número de filas y columnas necesarias para los subplots\n",
        "num_columns = 3  # Número de columnas en la cuadrícula de gráficos\n",
        "num_rows = math.ceil(len(columns_to_plot) / num_columns)  # Calcular cuántas filas se necesitan\n",
        "\n",
        "# Crear una figura y subplots para cada columna\n",
        "fig, axes = plt.subplots(nrows=num_rows, ncols=num_columns, figsize=(15, 5 * num_rows))  # Ajusta el tamaño de la figura dinámicamente\n",
        "fig.suptitle('Histogramas de las columnas')\n",
        "\n",
        "# Si sólo hay una fila de subplots, convertir 'axes' en una lista para iterar fácilmente\n",
        "if num_rows == 1:\n",
        "    axes = [axes]\n",
        "\n",
        "# Iterar sobre cada columna y crear un histograma\n",
        "for i, col in enumerate(columns_to_plot):\n",
        "    ax = axes[i // num_columns, i % num_columns]  # Ajusta el índice para ubicarlo en la cuadrícula\n",
        "    ax.hist(df_inmobiliario[col], bins=30, color='blue', edgecolor='black')\n",
        "    ax.set_title(f'Histograma de {col}')\n",
        "    ax.set_xlabel(col)\n",
        "    ax.set_ylabel('Frecuencia')\n",
        "\n",
        "# Eliminar los subplots vacíos si no se usan todos\n",
        "for j in range(i + 1, num_rows * num_columns):\n",
        "    fig.delaxes(axes[j // num_columns, j % num_columns])\n",
        "\n",
        "# Ajustar el diseño para que no se superpongan los gráficos\n",
        "plt.tight_layout(rect=[0, 0, 1, 0.96])\n",
        "\n",
        "# Mostrar el gráfico\n",
        "plt.show()"
      ],
      "metadata": {
        "colab": {
          "base_uri": "https://localhost:8080/",
          "height": 1000
        },
        "id": "0aLBposkHgnR",
        "outputId": "4778cd9b-0a6c-47b6-ea36-dd22a22f7062"
      },
      "execution_count": 82,
      "outputs": [
        {
          "output_type": "display_data",
          "data": {
            "text/plain": [
              "<Figure size 1500x1500 with 7 Axes>"
            ],
            "image/png": "[encoded data removed]"
          },
          "metadata": {}
        }
      ]
    },
    {
      "cell_type": "markdown",
      "source": [
        "**Realizamos un conteo de los nulos que contiene cada una de las columnas**"
      ],
      "metadata": {
        "id": "QjNNuXhFxcMu"
      }
    },
    {
      "cell_type": "code",
      "source": [
        "df_variablesEstudio.isnull().sum()"
      ],
      "metadata": {
        "colab": {
          "base_uri": "https://localhost:8080/",
          "height": 303
        },
        "id": "YvcEZIacT0SA",
        "outputId": "711a0011-b10d-4173-b1b3-895cb2d920ef"
      },
      "execution_count": 83,
      "outputs": [
        {
          "output_type": "execute_result",
          "data": {
            "text/plain": [
              "area                 24\n",
              "areaconstruida       24\n",
              "banos               536\n",
              "estrato            6667\n",
              "habitaciones         12\n",
              "garajes           13864\n",
              "valor                 0\n",
              "dtype: int64"
            ],
            "text/html": [
              "<div>\n",
              "<style scoped>\n",
              "    .dataframe tbody tr th:only-of-type {\n",
              "        vertical-align: middle;\n",
              "    }\n",
              "\n",
              "    .dataframe tbody tr th {\n",
              "        vertical-align: top;\n",
              "    }\n",
              "\n",
              "    .dataframe thead th {\n",
              "        text-align: right;\n",
              "    }\n",
              "</style>\n",
              "<table border=\"1\" class=\"dataframe\">\n",
              "  <thead>\n",
              "    <tr style=\"text-align: right;\">\n",
              "      <th></th>\n",
              "      <th>0</th>\n",
              "    </tr>\n",
              "  </thead>\n",
              "  <tbody>\n",
              "    <tr>\n",
              "      <th>area</th>\n",
              "      <td>24</td>\n",
              "    </tr>\n",
              "    <tr>\n",
              "      <th>areaconstruida</th>\n",
              "      <td>24</td>\n",
              "    </tr>\n",
              "    <tr>\n",
              "      <th>banos</th>\n",
              "      <td>536</td>\n",
              "    </tr>\n",
              "    <tr>\n",
              "      <th>estrato</th>\n",
              "      <td>6667</td>\n",
              "    </tr>\n",
              "    <tr>\n",
              "      <th>habitaciones</th>\n",
              "      <td>12</td>\n",
              "    </tr>\n",
              "    <tr>\n",
              "      <th>garajes</th>\n",
              "      <td>13864</td>\n",
              "    </tr>\n",
              "    <tr>\n",
              "      <th>valor</th>\n",
              "      <td>0</td>\n",
              "    </tr>\n",
              "  </tbody>\n",
              "</table>\n",
              "</div><br><label><b>dtype:</b> int64</label>"
            ]
          },
          "metadata": {},
          "execution_count": 83
        }
      ]
    },
    {
      "cell_type": "markdown",
      "source": [
        "**Al ver que los nulos no representan una cantidad importante en el dataframe, procedemos a eliminarlos para limpiar el df**"
      ],
      "metadata": {
        "id": "cmsA9tt0xwmZ"
      }
    },
    {
      "cell_type": "code",
      "source": [
        "nuevo_df_variablesEstudio=df_variablesEstudio.dropna(subset=['area','areaconstruida','banos','estrato', 'habitaciones','garajes', 'valor'])"
      ],
      "metadata": {
        "id": "UaUZp_plT3bx"
      },
      "execution_count": 84,
      "outputs": []
    },
    {
      "cell_type": "markdown",
      "source": [
        "**Nuevamente realizamos un conteo de los nulos que contiene cada una de las columnas para verificar que estas ya no tengan nulos**"
      ],
      "metadata": {
        "id": "3yieCK5myHta"
      }
    },
    {
      "cell_type": "code",
      "source": [
        "nuevo_df_variablesEstudio.isnull().sum()"
      ],
      "metadata": {
        "colab": {
          "base_uri": "https://localhost:8080/",
          "height": 303
        },
        "id": "uEeli7jNT55f",
        "outputId": "992d6d72-b4d8-4417-d517-a26597b95fb2"
      },
      "execution_count": 85,
      "outputs": [
        {
          "output_type": "execute_result",
          "data": {
            "text/plain": [
              "area              0\n",
              "areaconstruida    0\n",
              "banos             0\n",
              "estrato           0\n",
              "habitaciones      0\n",
              "garajes           0\n",
              "valor             0\n",
              "dtype: int64"
            ],
            "text/html": [
              "<div>\n",
              "<style scoped>\n",
              "    .dataframe tbody tr th:only-of-type {\n",
              "        vertical-align: middle;\n",
              "    }\n",
              "\n",
              "    .dataframe tbody tr th {\n",
              "        vertical-align: top;\n",
              "    }\n",
              "\n",
              "    .dataframe thead th {\n",
              "        text-align: right;\n",
              "    }\n",
              "</style>\n",
              "<table border=\"1\" class=\"dataframe\">\n",
              "  <thead>\n",
              "    <tr style=\"text-align: right;\">\n",
              "      <th></th>\n",
              "      <th>0</th>\n",
              "    </tr>\n",
              "  </thead>\n",
              "  <tbody>\n",
              "    <tr>\n",
              "      <th>area</th>\n",
              "      <td>0</td>\n",
              "    </tr>\n",
              "    <tr>\n",
              "      <th>areaconstruida</th>\n",
              "      <td>0</td>\n",
              "    </tr>\n",
              "    <tr>\n",
              "      <th>banos</th>\n",
              "      <td>0</td>\n",
              "    </tr>\n",
              "    <tr>\n",
              "      <th>estrato</th>\n",
              "      <td>0</td>\n",
              "    </tr>\n",
              "    <tr>\n",
              "      <th>habitaciones</th>\n",
              "      <td>0</td>\n",
              "    </tr>\n",
              "    <tr>\n",
              "      <th>garajes</th>\n",
              "      <td>0</td>\n",
              "    </tr>\n",
              "    <tr>\n",
              "      <th>valor</th>\n",
              "      <td>0</td>\n",
              "    </tr>\n",
              "  </tbody>\n",
              "</table>\n",
              "</div><br><label><b>dtype:</b> int64</label>"
            ]
          },
          "metadata": {},
          "execution_count": 85
        }
      ]
    },
    {
      "cell_type": "markdown",
      "source": [
        "**Se calculan los percentiles 0.5% y 95% de las columnas numéricas en nuevo_df_variablesEstudio, luego, se filtran las filas de nuevo_df_variablesEstudio para incluir solo aquellas cuyos valores están dentro del rango definido por estos percentiles.**"
      ],
      "metadata": {
        "id": "PaIVDRyB1cn0"
      }
    },
    {
      "cell_type": "code",
      "source": [
        "percentile_up = nuevo_df_variablesEstudio.quantile(0.005)\n",
        "percentile_down = nuevo_df_variablesEstudio.quantile(0.95)\n",
        "nuevo_df_variablesEstudio = nuevo_df_variablesEstudio[(nuevo_df_variablesEstudio >= percentile_up) & (nuevo_df_variablesEstudio <= percentile_down)]"
      ],
      "metadata": {
        "id": "XfjIB4HOy0jE"
      },
      "execution_count": 86,
      "outputs": []
    },
    {
      "cell_type": "markdown",
      "source": [
        "**se eliminan los valores extremos (muy bajos o muy altos) en las columnas seleccionadas**"
      ],
      "metadata": {
        "id": "z_pmhR3i1ixB"
      }
    },
    {
      "cell_type": "code",
      "source": [
        "\n",
        "nuevo_df_variablesEstudio = nuevo_df_variablesEstudio.dropna(subset=['area','areaconstruida','banos','estrato', 'habitaciones','garajes', 'valor'])\n"
      ],
      "metadata": {
        "id": "qHzjlfncy03i"
      },
      "execution_count": 87,
      "outputs": []
    },
    {
      "cell_type": "markdown",
      "source": [
        "**Imprimimos la informacion del dataframe nuevo_df_variablesEstudio y nos percatamos que cada columnna esta completa**"
      ],
      "metadata": {
        "id": "PPCa2nmh10Sw"
      }
    },
    {
      "cell_type": "code",
      "source": [
        "nuevo_df_variablesEstudio.info()"
      ],
      "metadata": {
        "colab": {
          "base_uri": "https://localhost:8080/"
        },
        "id": "7xxrYmHoy1Ok",
        "outputId": "5016cf03-a4ad-4c29-dd12-7d37997b224a"
      },
      "execution_count": 88,
      "outputs": [
        {
          "output_type": "stream",
          "name": "stdout",
          "text": [
            "<class 'pandas.core.frame.DataFrame'>\n",
            "Index: 113614 entries, 0 to 145551\n",
            "Data columns (total 7 columns):\n",
            " #   Column          Non-Null Count   Dtype  \n",
            "---  ------          --------------   -----  \n",
            " 0   area            113614 non-null  float64\n",
            " 1   areaconstruida  113614 non-null  float64\n",
            " 2   banos           113614 non-null  float64\n",
            " 3   estrato         113614 non-null  float64\n",
            " 4   habitaciones    113614 non-null  float64\n",
            " 5   garajes         113614 non-null  float64\n",
            " 6   valor           113614 non-null  float64\n",
            "dtypes: float64(7)\n",
            "memory usage: 6.9 MB\n"
          ]
        }
      ]
    },
    {
      "cell_type": "markdown",
      "source": [
        "**Realizamos un .describe para obtenter la estadistica basica del dataframe nuevo_df_variablesEstudio**"
      ],
      "metadata": {
        "id": "UpJsq4Bf2Fnj"
      }
    },
    {
      "cell_type": "code",
      "source": [
        "nuevo_df_variablesEstudio.describe()"
      ],
      "metadata": {
        "colab": {
          "base_uri": "https://localhost:8080/",
          "height": 300
        },
        "id": "VMGJhtBVUQOC",
        "outputId": "ff999239-c0d6-417c-e283-8a43f9fc38d0"
      },
      "execution_count": 89,
      "outputs": [
        {
          "output_type": "execute_result",
          "data": {
            "text/plain": [
              "                area  areaconstruida          banos        estrato  \\\n",
              "count  113614.000000   113614.000000  113614.000000  113614.000000   \n",
              "mean      104.677870      104.677870       2.560327       4.840627   \n",
              "std        46.641858       46.641858       0.877426       1.036479   \n",
              "min        20.000000       20.000000       1.000000       2.000000   \n",
              "25%        69.000000       69.000000       2.000000       4.000000   \n",
              "50%        93.000000       93.000000       2.000000       5.000000   \n",
              "75%       129.000000      129.000000       3.000000       6.000000   \n",
              "max       268.000000      268.000000       5.000000       6.000000   \n",
              "\n",
              "        habitaciones        garajes         valor  \n",
              "count  113614.000000  113614.000000  1.136140e+05  \n",
              "mean        2.543824       1.615901  5.977144e+08  \n",
              "std         0.749201       0.592119  3.470626e+08  \n",
              "min         1.000000       1.000000  1.296045e+08  \n",
              "25%         2.000000       1.000000  3.400000e+08  \n",
              "50%         3.000000       2.000000  4.950000e+08  \n",
              "75%         3.000000       2.000000  7.500000e+08  \n",
              "max         4.000000       3.000000  1.900000e+09  "
            ],
            "text/html": [
              "\n",
              "  <div id=\"df-3723dce1-73ff-4a3b-85b2-03d690d5216c\" class=\"colab-df-container\">\n",
              "    <div>\n",
              "<style scoped>\n",
              "    .dataframe tbody tr th:only-of-type {\n",
              "        vertical-align: middle;\n",
              "    }\n",
              "\n",
              "    .dataframe tbody tr th {\n",
              "        vertical-align: top;\n",
              "    }\n",
              "\n",
              "    .dataframe thead th {\n",
              "        text-align: right;\n",
              "    }\n",
              "</style>\n",
              "<table border=\"1\" class=\"dataframe\">\n",
              "  <thead>\n",
              "    <tr style=\"text-align: right;\">\n",
              "      <th></th>\n",
              "      <th>area</th>\n",
              "      <th>areaconstruida</th>\n",
              "      <th>banos</th>\n",
              "      <th>estrato</th>\n",
              "      <th>habitaciones</th>\n",
              "      <th>garajes</th>\n",
              "      <th>valor</th>\n",
              "    </tr>\n",
              "  </thead>\n",
              "  <tbody>\n",
              "    <tr>\n",
              "      <th>count</th>\n",
              "      <td>113614.000000</td>\n",
              "      <td>113614.000000</td>\n",
              "      <td>113614.000000</td>\n",
              "      <td>113614.000000</td>\n",
              "      <td>113614.000000</td>\n",
              "      <td>113614.000000</td>\n",
              "      <td>1.136140e+05</td>\n",
              "    </tr>\n",
              "    <tr>\n",
              "      <th>mean</th>\n",
              "      <td>104.677870</td>\n",
              "      <td>104.677870</td>\n",
              "      <td>2.560327</td>\n",
              "      <td>4.840627</td>\n",
              "      <td>2.543824</td>\n",
              "      <td>1.615901</td>\n",
              "      <td>5.977144e+08</td>\n",
              "    </tr>\n",
              "    <tr>\n",
              "      <th>std</th>\n",
              "      <td>46.641858</td>\n",
              "      <td>46.641858</td>\n",
              "      <td>0.877426</td>\n",
              "      <td>1.036479</td>\n",
              "      <td>0.749201</td>\n",
              "      <td>0.592119</td>\n",
              "      <td>3.470626e+08</td>\n",
              "    </tr>\n",
              "    <tr>\n",
              "      <th>min</th>\n",
              "      <td>20.000000</td>\n",
              "      <td>20.000000</td>\n",
              "      <td>1.000000</td>\n",
              "      <td>2.000000</td>\n",
              "      <td>1.000000</td>\n",
              "      <td>1.000000</td>\n",
              "      <td>1.296045e+08</td>\n",
              "    </tr>\n",
              "    <tr>\n",
              "      <th>25%</th>\n",
              "      <td>69.000000</td>\n",
              "      <td>69.000000</td>\n",
              "      <td>2.000000</td>\n",
              "      <td>4.000000</td>\n",
              "      <td>2.000000</td>\n",
              "      <td>1.000000</td>\n",
              "      <td>3.400000e+08</td>\n",
              "    </tr>\n",
              "    <tr>\n",
              "      <th>50%</th>\n",
              "      <td>93.000000</td>\n",
              "      <td>93.000000</td>\n",
              "      <td>2.000000</td>\n",
              "      <td>5.000000</td>\n",
              "      <td>3.000000</td>\n",
              "      <td>2.000000</td>\n",
              "      <td>4.950000e+08</td>\n",
              "    </tr>\n",
              "    <tr>\n",
              "      <th>75%</th>\n",
              "      <td>129.000000</td>\n",
              "      <td>129.000000</td>\n",
              "      <td>3.000000</td>\n",
              "      <td>6.000000</td>\n",
              "      <td>3.000000</td>\n",
              "      <td>2.000000</td>\n",
              "      <td>7.500000e+08</td>\n",
              "    </tr>\n",
              "    <tr>\n",
              "      <th>max</th>\n",
              "      <td>268.000000</td>\n",
              "      <td>268.000000</td>\n",
              "      <td>5.000000</td>\n",
              "      <td>6.000000</td>\n",
              "      <td>4.000000</td>\n",
              "      <td>3.000000</td>\n",
              "      <td>1.900000e+09</td>\n",
              "    </tr>\n",
              "  </tbody>\n",
              "</table>\n",
              "</div>\n",
              "    <div class=\"colab-df-buttons\">\n",
              "\n",
              "  <div class=\"colab-df-container\">\n",
              "    <button class=\"colab-df-convert\" onclick=\"convertToInteractive('df-3723dce1-73ff-4a3b-85b2-03d690d5216c')\"\n",
              "            title=\"Convert this dataframe to an interactive table.\"\n",
              "            style=\"display:none;\">\n",
              "\n",
              "  <svg xmlns=\"http://www.w3.org/2000/svg\" height=\"24px\" viewBox=\"0 -960 960 960\">\n",
              "    <path d=\"M120-120v-720h720v720H120Zm60-500h600v-160H180v160Zm220 220h160v-160H400v160Zm0 220h160v-160H400v160ZM180-400h160v-160H180v160Zm440 0h160v-160H620v160ZM180-180h160v-160H180v160Zm440 0h160v-160H620v160Z\"/>\n",
              "  </svg>\n",
              "    </button>\n",
              "\n",
              "  <style>\n",
              "    .colab-df-container {\n",
              "      display:flex;\n",
              "      gap: 12px;\n",
              "    }\n",
              "\n",
              "    .colab-df-convert {\n",
              "      background-color: #E8F0FE;\n",
              "      border: none;\n",
              "      border-radius: 50%;\n",
              "      cursor: pointer;\n",
              "      display: none;\n",
              "      fill: #1967D2;\n",
              "      height: 32px;\n",
              "      padding: 0 0 0 0;\n",
              "      width: 32px;\n",
              "    }\n",
              "\n",
              "    .colab-df-convert:hover {\n",
              "      background-color: #E2EBFA;\n",
              "      box-shadow: 0px 1px 2px rgba(60, 64, 67, 0.3), 0px 1px 3px 1px rgba(60, 64, 67, 0.15);\n",
              "      fill: #174EA6;\n",
              "    }\n",
              "\n",
              "    .colab-df-buttons div {\n",
              "      margin-bottom: 4px;\n",
              "    }\n",
              "\n",
              "    [theme=dark] .colab-df-convert {\n",
              "      background-color: #3B4455;\n",
              "      fill: #D2E3FC;\n",
              "    }\n",
              "\n",
              "    [theme=dark] .colab-df-convert:hover {\n",
              "      background-color: #434B5C;\n",
              "      box-shadow: 0px 1px 3px 1px rgba(0, 0, 0, 0.15);\n",
              "      filter: drop-shadow(0px 1px 2px rgba(0, 0, 0, 0.3));\n",
              "      fill: #FFFFFF;\n",
              "    }\n",
              "  </style>\n",
              "\n",
              "    <script>\n",
              "      const buttonEl =\n",
              "        document.querySelector('#df-3723dce1-73ff-4a3b-85b2-03d690d5216c button.colab-df-convert');\n",
              "      buttonEl.style.display =\n",
              "        google.colab.kernel.accessAllowed ? 'block' : 'none';\n",
              "\n",
              "      async function convertToInteractive(key) {\n",
              "        const element = document.querySelector('#df-3723dce1-73ff-4a3b-85b2-03d690d5216c');\n",
              "        const dataTable =\n",
              "          await google.colab.kernel.invokeFunction('convertToInteractive',\n",
              "                                                    [key], {});\n",
              "        if (!dataTable) return;\n",
              "\n",
              "        const docLinkHtml = 'Like what you see? Visit the ' +\n",
              "          '<a target=\"_blank\" href=https://colab.research.google.com/notebooks/data_table.ipynb>data table notebook</a>'\n",
              "          + ' to learn more about interactive tables.';\n",
              "        element.innerHTML = '';\n",
              "        dataTable['output_type'] = 'display_data';\n",
              "        await google.colab.output.renderOutput(dataTable, element);\n",
              "        const docLink = document.createElement('div');\n",
              "        docLink.innerHTML = docLinkHtml;\n",
              "        element.appendChild(docLink);\n",
              "      }\n",
              "    </script>\n",
              "  </div>\n",
              "\n",
              "\n",
              "<div id=\"df-ad759759-8199-43ec-bc3f-25161994d5ab\">\n",
              "  <button class=\"colab-df-quickchart\" onclick=\"quickchart('df-ad759759-8199-43ec-bc3f-25161994d5ab')\"\n",
              "            title=\"Suggest charts\"\n",
              "            style=\"display:none;\">\n",
              "\n",
              "<svg xmlns=\"http://www.w3.org/2000/svg\" height=\"24px\"viewBox=\"0 0 24 24\"\n",
              "     width=\"24px\">\n",
              "    <g>\n",
              "        <path d=\"M19 3H5c-1.1 0-2 .9-2 2v14c0 1.1.9 2 2 2h14c1.1 0 2-.9 2-2V5c0-1.1-.9-2-2-2zM9 17H7v-7h2v7zm4 0h-2V7h2v10zm4 0h-2v-4h2v4z\"/>\n",
              "    </g>\n",
              "</svg>\n",
              "  </button>\n",
              "\n",
              "<style>\n",
              "  .colab-df-quickchart {\n",
              "      --bg-color: #E8F0FE;\n",
              "      --fill-color: #1967D2;\n",
              "      --hover-bg-color: #E2EBFA;\n",
              "      --hover-fill-color: #174EA6;\n",
              "      --disabled-fill-color: #AAA;\n",
              "      --disabled-bg-color: #DDD;\n",
              "  }\n",
              "\n",
              "  [theme=dark] .colab-df-quickchart {\n",
              "      --bg-color: #3B4455;\n",
              "      --fill-color: #D2E3FC;\n",
              "      --hover-bg-color: #434B5C;\n",
              "      --hover-fill-color: #FFFFFF;\n",
              "      --disabled-bg-color: #3B4455;\n",
              "      --disabled-fill-color: #666;\n",
              "  }\n",
              "\n",
              "  .colab-df-quickchart {\n",
              "    background-color: var(--bg-color);\n",
              "    border: none;\n",
              "    border-radius: 50%;\n",
              "    cursor: pointer;\n",
              "    display: none;\n",
              "    fill: var(--fill-color);\n",
              "    height: 32px;\n",
              "    padding: 0;\n",
              "    width: 32px;\n",
              "  }\n",
              "\n",
              "  .colab-df-quickchart:hover {\n",
              "    background-color: var(--hover-bg-color);\n",
              "    box-shadow: 0 1px 2px rgba(60, 64, 67, 0.3), 0 1px 3px 1px rgba(60, 64, 67, 0.15);\n",
              "    fill: var(--button-hover-fill-color);\n",
              "  }\n",
              "\n",
              "  .colab-df-quickchart-complete:disabled,\n",
              "  .colab-df-quickchart-complete:disabled:hover {\n",
              "    background-color: var(--disabled-bg-color);\n",
              "    fill: var(--disabled-fill-color);\n",
              "    box-shadow: none;\n",
              "  }\n",
              "\n",
              "  .colab-df-spinner {\n",
              "    border: 2px solid var(--fill-color);\n",
              "    border-color: transparent;\n",
              "    border-bottom-color: var(--fill-color);\n",
              "    animation:\n",
              "      spin 1s steps(1) infinite;\n",
              "  }\n",
              "\n",
              "  @keyframes spin {\n",
              "    0% {\n",
              "      border-color: transparent;\n",
              "      border-bottom-color: var(--fill-color);\n",
              "      border-left-color: var(--fill-color);\n",
              "    }\n",
              "    20% {\n",
              "      border-color: transparent;\n",
              "      border-left-color: var(--fill-color);\n",
              "      border-top-color: var(--fill-color);\n",
              "    }\n",
              "    30% {\n",
              "      border-color: transparent;\n",
              "      border-left-color: var(--fill-color);\n",
              "      border-top-color: var(--fill-color);\n",
              "      border-right-color: var(--fill-color);\n",
              "    }\n",
              "    40% {\n",
              "      border-color: transparent;\n",
              "      border-right-color: var(--fill-color);\n",
              "      border-top-color: var(--fill-color);\n",
              "    }\n",
              "    60% {\n",
              "      border-color: transparent;\n",
              "      border-right-color: var(--fill-color);\n",
              "    }\n",
              "    80% {\n",
              "      border-color: transparent;\n",
              "      border-right-color: var(--fill-color);\n",
              "      border-bottom-color: var(--fill-color);\n",
              "    }\n",
              "    90% {\n",
              "      border-color: transparent;\n",
              "      border-bottom-color: var(--fill-color);\n",
              "    }\n",
              "  }\n",
              "</style>\n",
              "\n",
              "  <script>\n",
              "    async function quickchart(key) {\n",
              "      const quickchartButtonEl =\n",
              "        document.querySelector('#' + key + ' button');\n",
              "      quickchartButtonEl.disabled = true;  // To prevent multiple clicks.\n",
              "      quickchartButtonEl.classList.add('colab-df-spinner');\n",
              "      try {\n",
              "        const charts = await google.colab.kernel.invokeFunction(\n",
              "            'suggestCharts', [key], {});\n",
              "      } catch (error) {\n",
              "        console.error('Error during call to suggestCharts:', error);\n",
              "      }\n",
              "      quickchartButtonEl.classList.remove('colab-df-spinner');\n",
              "      quickchartButtonEl.classList.add('colab-df-quickchart-complete');\n",
              "    }\n",
              "    (() => {\n",
              "      let quickchartButtonEl =\n",
              "        document.querySelector('#df-ad759759-8199-43ec-bc3f-25161994d5ab button');\n",
              "      quickchartButtonEl.style.display =\n",
              "        google.colab.kernel.accessAllowed ? 'block' : 'none';\n",
              "    })();\n",
              "  </script>\n",
              "</div>\n",
              "\n",
              "    </div>\n",
              "  </div>\n"
            ],
            "application/vnd.google.colaboratory.intrinsic+json": {
              "type": "dataframe",
              "summary": "{\n  \"name\": \"nuevo_df_variablesEstudio\",\n  \"rows\": 8,\n  \"fields\": [\n    {\n      \"column\": \"area\",\n      \"properties\": {\n        \"dtype\": \"number\",\n        \"std\": 40131.7979949664,\n        \"min\": 20.0,\n        \"max\": 113614.0,\n        \"num_unique_values\": 8,\n        \"samples\": [\n          104.67787006882956,\n          93.0,\n          113614.0\n        ],\n        \"semantic_type\": \"\",\n        \"description\": \"\"\n      }\n    },\n    {\n      \"column\": \"areaconstruida\",\n      \"properties\": {\n        \"dtype\": \"number\",\n        \"std\": 40131.7979949664,\n        \"min\": 20.0,\n        \"max\": 113614.0,\n        \"num_unique_values\": 8,\n        \"samples\": [\n          104.67787006882956,\n          93.0,\n          113614.0\n        ],\n        \"semantic_type\": \"\",\n        \"description\": \"\"\n      }\n    },\n    {\n      \"column\": \"banos\",\n      \"properties\": {\n        \"dtype\": \"number\",\n        \"std\": 40167.78470779666,\n        \"min\": 0.8774262631381129,\n        \"max\": 113614.0,\n        \"num_unique_values\": 7,\n        \"samples\": [\n          113614.0,\n          2.560327072367842,\n          3.0\n        ],\n        \"semantic_type\": \"\",\n        \"description\": \"\"\n      }\n    },\n    {\n      \"column\": \"estrato\",\n      \"properties\": {\n        \"dtype\": \"number\",\n        \"std\": 40167.15644453878,\n        \"min\": 1.0364792958426026,\n        \"max\": 113614.0,\n        \"num_unique_values\": 7,\n        \"samples\": [\n          113614.0,\n          4.8406270354005665,\n          5.0\n        ],\n        \"semantic_type\": \"\",\n        \"description\": \"\"\n      }\n    },\n    {\n      \"column\": \"habitaciones\",\n      \"properties\": {\n        \"dtype\": \"number\",\n        \"std\": 40167.79201123588,\n        \"min\": 0.7492014777283486,\n        \"max\": 113614.0,\n        \"num_unique_values\": 7,\n        \"samples\": [\n          113614.0,\n          2.5438238245286673,\n          3.0\n        ],\n        \"semantic_type\": \"\",\n        \"description\": \"\"\n      }\n    },\n    {\n      \"column\": \"garajes\",\n      \"properties\": {\n        \"dtype\": \"number\",\n        \"std\": 40168.04883548508,\n        \"min\": 0.5921192766144409,\n        \"max\": 113614.0,\n        \"num_unique_values\": 6,\n        \"samples\": [\n          113614.0,\n          1.6159012093580016,\n          3.0\n        ],\n        \"semantic_type\": \"\",\n        \"description\": \"\"\n      }\n    },\n    {\n      \"column\": \"valor\",\n      \"properties\": {\n        \"dtype\": \"number\",\n        \"std\": 589068615.6922064,\n        \"min\": 113614.0,\n        \"max\": 1900000000.0,\n        \"num_unique_values\": 8,\n        \"samples\": [\n          597714358.95321,\n          495000000.0,\n          113614.0\n        ],\n        \"semantic_type\": \"\",\n        \"description\": \"\"\n      }\n    }\n  ]\n}"
            }
          },
          "metadata": {},
          "execution_count": 89
        }
      ]
    },
    {
      "cell_type": "markdown",
      "source": [
        "**Imprimimos los valores maximos de cada una de las columnas y debido a que hay caracteristicas en escala diferente debemos normalizar**"
      ],
      "metadata": {
        "id": "GkYICrV-2P7y"
      }
    },
    {
      "cell_type": "code",
      "source": [
        "maximos=nuevo_df_variablesEstudio.max()\n",
        "maximos"
      ],
      "metadata": {
        "colab": {
          "base_uri": "https://localhost:8080/",
          "height": 303
        },
        "id": "f7pl_obeUSRE",
        "outputId": "d84518de-7f55-4199-c741-7f88392da85f"
      },
      "execution_count": 90,
      "outputs": [
        {
          "output_type": "execute_result",
          "data": {
            "text/plain": [
              "area              2.680000e+02\n",
              "areaconstruida    2.680000e+02\n",
              "banos             5.000000e+00\n",
              "estrato           6.000000e+00\n",
              "habitaciones      4.000000e+00\n",
              "garajes           3.000000e+00\n",
              "valor             1.900000e+09\n",
              "dtype: float64"
            ],
            "text/html": [
              "<div>\n",
              "<style scoped>\n",
              "    .dataframe tbody tr th:only-of-type {\n",
              "        vertical-align: middle;\n",
              "    }\n",
              "\n",
              "    .dataframe tbody tr th {\n",
              "        vertical-align: top;\n",
              "    }\n",
              "\n",
              "    .dataframe thead th {\n",
              "        text-align: right;\n",
              "    }\n",
              "</style>\n",
              "<table border=\"1\" class=\"dataframe\">\n",
              "  <thead>\n",
              "    <tr style=\"text-align: right;\">\n",
              "      <th></th>\n",
              "      <th>0</th>\n",
              "    </tr>\n",
              "  </thead>\n",
              "  <tbody>\n",
              "    <tr>\n",
              "      <th>area</th>\n",
              "      <td>2.680000e+02</td>\n",
              "    </tr>\n",
              "    <tr>\n",
              "      <th>areaconstruida</th>\n",
              "      <td>2.680000e+02</td>\n",
              "    </tr>\n",
              "    <tr>\n",
              "      <th>banos</th>\n",
              "      <td>5.000000e+00</td>\n",
              "    </tr>\n",
              "    <tr>\n",
              "      <th>estrato</th>\n",
              "      <td>6.000000e+00</td>\n",
              "    </tr>\n",
              "    <tr>\n",
              "      <th>habitaciones</th>\n",
              "      <td>4.000000e+00</td>\n",
              "    </tr>\n",
              "    <tr>\n",
              "      <th>garajes</th>\n",
              "      <td>3.000000e+00</td>\n",
              "    </tr>\n",
              "    <tr>\n",
              "      <th>valor</th>\n",
              "      <td>1.900000e+09</td>\n",
              "    </tr>\n",
              "  </tbody>\n",
              "</table>\n",
              "</div><br><label><b>dtype:</b> float64</label>"
            ]
          },
          "metadata": {},
          "execution_count": 90
        }
      ]
    },
    {
      "cell_type": "markdown",
      "source": [
        "**Imprimimos los valores minimos de cada columna y debido a que hay caracteristicas en escala diferente debemos normalizar**"
      ],
      "metadata": {
        "id": "fVRsZQEH2XWe"
      }
    },
    {
      "cell_type": "code",
      "source": [
        "maximos=nuevo_df_variablesEstudio.min()\n",
        "maximos"
      ],
      "metadata": {
        "colab": {
          "base_uri": "https://localhost:8080/",
          "height": 303
        },
        "id": "ow1xMkPqUUOY",
        "outputId": "7c952e2e-4ca0-4f15-a3b0-f010477bba88"
      },
      "execution_count": 91,
      "outputs": [
        {
          "output_type": "execute_result",
          "data": {
            "text/plain": [
              "area                     20.0\n",
              "areaconstruida           20.0\n",
              "banos                     1.0\n",
              "estrato                   2.0\n",
              "habitaciones              1.0\n",
              "garajes                   1.0\n",
              "valor             129604500.0\n",
              "dtype: float64"
            ],
            "text/html": [
              "<div>\n",
              "<style scoped>\n",
              "    .dataframe tbody tr th:only-of-type {\n",
              "        vertical-align: middle;\n",
              "    }\n",
              "\n",
              "    .dataframe tbody tr th {\n",
              "        vertical-align: top;\n",
              "    }\n",
              "\n",
              "    .dataframe thead th {\n",
              "        text-align: right;\n",
              "    }\n",
              "</style>\n",
              "<table border=\"1\" class=\"dataframe\">\n",
              "  <thead>\n",
              "    <tr style=\"text-align: right;\">\n",
              "      <th></th>\n",
              "      <th>0</th>\n",
              "    </tr>\n",
              "  </thead>\n",
              "  <tbody>\n",
              "    <tr>\n",
              "      <th>area</th>\n",
              "      <td>20.0</td>\n",
              "    </tr>\n",
              "    <tr>\n",
              "      <th>areaconstruida</th>\n",
              "      <td>20.0</td>\n",
              "    </tr>\n",
              "    <tr>\n",
              "      <th>banos</th>\n",
              "      <td>1.0</td>\n",
              "    </tr>\n",
              "    <tr>\n",
              "      <th>estrato</th>\n",
              "      <td>2.0</td>\n",
              "    </tr>\n",
              "    <tr>\n",
              "      <th>habitaciones</th>\n",
              "      <td>1.0</td>\n",
              "    </tr>\n",
              "    <tr>\n",
              "      <th>garajes</th>\n",
              "      <td>1.0</td>\n",
              "    </tr>\n",
              "    <tr>\n",
              "      <th>valor</th>\n",
              "      <td>129604500.0</td>\n",
              "    </tr>\n",
              "  </tbody>\n",
              "</table>\n",
              "</div><br><label><b>dtype:</b> float64</label>"
            ]
          },
          "metadata": {},
          "execution_count": 91
        }
      ]
    },
    {
      "cell_type": "markdown",
      "source": [
        "**Se define una función para normalizar los datos (Min-Max normalization) y aplica esta normalización al DataFrame nuevo_df_variablesEstudio.**"
      ],
      "metadata": {
        "id": "zhFEvUDvjD-4"
      }
    },
    {
      "cell_type": "code",
      "source": [
        "def minmax_norm(df):\n",
        "    return (df - df.min()) / ( df.max() - df.min())"
      ],
      "metadata": {
        "id": "PUIudfMkUf1i"
      },
      "execution_count": 92,
      "outputs": []
    },
    {
      "cell_type": "code",
      "source": [
        "nuevo_df_variablesEstudio = minmax_norm(nuevo_df_variablesEstudio)"
      ],
      "metadata": {
        "id": "CqqyBg_gUgaQ"
      },
      "execution_count": 93,
      "outputs": []
    },
    {
      "cell_type": "markdown",
      "source": [
        "**Creacion del dataset de entrenamioento y prueba donde el 70% es para entrenar y el 30% para probar**"
      ],
      "metadata": {
        "id": "gbnfXJnCg8KW"
      }
    },
    {
      "cell_type": "code",
      "source": [
        "train, test = train_test_split(nuevo_df_variablesEstudio, test_size=0.3)"
      ],
      "metadata": {
        "id": "FlmHpF07Uj2r"
      },
      "execution_count": 94,
      "outputs": []
    },
    {
      "cell_type": "markdown",
      "source": [
        "**Separación de variables independientes (X) y dependiente (Y), se extraen las variables independientes (X) y la variable dependiente (Y) para el conjunto de entrenamiento. Luego, se convierte a matrices NumPy y se aplanan los datos de Y (ytrain.ravel()).**"
      ],
      "metadata": {
        "id": "Jb6Hb9NKi7AO"
      }
    },
    {
      "cell_type": "code",
      "source": [
        "xtrain=train[[\"area\",'areaconstruida', \"banos\", \"estrato\", \"habitaciones\", \"garajes\"]]\n",
        "print(xtrain)"
      ],
      "metadata": {
        "colab": {
          "base_uri": "https://localhost:8080/"
        },
        "id": "InTs_HPJUmBa",
        "outputId": "3fa8dcdc-4052-4a4e-a7cd-008fd9a76a68"
      },
      "execution_count": 95,
      "outputs": [
        {
          "output_type": "stream",
          "name": "stdout",
          "text": [
            "            area  areaconstruida  banos  estrato  habitaciones  garajes\n",
            "103269  0.604839        0.604839   0.50     1.00      0.666667      0.5\n",
            "124719  0.166613        0.166613   0.25     0.25      0.333333      0.0\n",
            "26865   0.798387        0.798387   0.75     0.75      0.666667      0.5\n",
            "62701   0.870968        0.870968   1.00     1.00      1.000000      1.0\n",
            "132132  0.137097        0.137097   0.25     0.75      0.333333      0.0\n",
            "...          ...             ...    ...      ...           ...      ...\n",
            "41528   0.346774        0.346774   0.25     0.50      0.666667      0.0\n",
            "143808  0.995968        0.995968   0.75     1.00      0.666667      0.5\n",
            "65367   0.600806        0.600806   0.25     1.00      0.666667      0.5\n",
            "144089  0.294355        0.294355   0.25     0.75      0.666667      0.5\n",
            "48784   0.346774        0.346774   0.25     0.75      0.666667      0.5\n",
            "\n",
            "[79529 rows x 6 columns]\n"
          ]
        }
      ]
    },
    {
      "cell_type": "code",
      "source": [
        "xtrain=xtrain.to_numpy()\n",
        "print(xtrain)"
      ],
      "metadata": {
        "colab": {
          "base_uri": "https://localhost:8080/"
        },
        "id": "bYhv8D5wUrcN",
        "outputId": "a15cbf87-b09b-4cf0-cae6-f9aa10fbe895"
      },
      "execution_count": 96,
      "outputs": [
        {
          "output_type": "stream",
          "name": "stdout",
          "text": [
            "[[0.60483871 0.60483871 0.5        1.         0.66666667 0.5       ]\n",
            " [0.1666129  0.1666129  0.25       0.25       0.33333333 0.        ]\n",
            " [0.7983871  0.7983871  0.75       0.75       0.66666667 0.5       ]\n",
            " ...\n",
            " [0.60080645 0.60080645 0.25       1.         0.66666667 0.5       ]\n",
            " [0.29435484 0.29435484 0.25       0.75       0.66666667 0.5       ]\n",
            " [0.34677419 0.34677419 0.25       0.75       0.66666667 0.5       ]]\n"
          ]
        }
      ]
    },
    {
      "cell_type": "code",
      "source": [
        "ytrain=train[[\"valor\"]]\n",
        "ytrain=ytrain.to_numpy()\n",
        "ytrain=ytrain.ravel()\n",
        "print(ytrain)"
      ],
      "metadata": {
        "colab": {
          "base_uri": "https://localhost:8080/"
        },
        "id": "Hd9eqrBxUuHO",
        "outputId": "6f7cacb5-41ff-49bd-e758-e9a4a4c7d1d6"
      },
      "execution_count": 97,
      "outputs": [
        {
          "output_type": "stream",
          "name": "stdout",
          "text": [
            "[0.56506894 0.05953218 0.71757723 ... 0.57636585 0.20328537 0.25383904]\n"
          ]
        }
      ]
    },
    {
      "cell_type": "markdown",
      "source": [
        "**Procesamiento de los datos de prueba, se realiza el procedimiento de separación de variables y conversión a NumPy para el conjunto de prueba.**"
      ],
      "metadata": {
        "id": "ebRSyDDKisoc"
      }
    },
    {
      "cell_type": "code",
      "source": [
        "xtest=test[[\"area\",'areaconstruida', \"banos\", \"estrato\", \"habitaciones\", \"garajes\"]]\n",
        "print(xtest)"
      ],
      "metadata": {
        "colab": {
          "base_uri": "https://localhost:8080/"
        },
        "id": "0a_cdcsGUu7k",
        "outputId": "3b17e6f4-99a3-4d5a-82ea-d426bad808a8"
      },
      "execution_count": 98,
      "outputs": [
        {
          "output_type": "stream",
          "name": "stdout",
          "text": [
            "            area  areaconstruida  banos  estrato  habitaciones  garajes\n",
            "35069   0.343790        0.343790   0.50     0.75      0.333333      0.5\n",
            "70950   0.544355        0.544355   0.50     1.00      0.666667      0.5\n",
            "15315   0.201613        0.201613   0.25     0.50      0.666667      0.0\n",
            "137780  0.342742        0.342742   0.50     1.00      0.666667      0.5\n",
            "113122  0.330645        0.330645   0.50     0.75      0.666667      0.5\n",
            "...          ...             ...    ...      ...           ...      ...\n",
            "110902  0.229839        0.229839   0.25     0.50      0.666667      0.0\n",
            "26761   0.294355        0.294355   0.25     0.75      0.666667      0.0\n",
            "132419  0.229839        0.229839   0.25     0.75      0.333333      0.0\n",
            "7651    0.725806        0.725806   0.50     0.50      0.666667      0.5\n",
            "51198   0.286290        0.286290   0.50     0.75      0.333333      0.0\n",
            "\n",
            "[34085 rows x 6 columns]\n"
          ]
        }
      ]
    },
    {
      "cell_type": "code",
      "source": [
        "xtest=xtest.to_numpy()\n",
        "print(xtest)"
      ],
      "metadata": {
        "colab": {
          "base_uri": "https://localhost:8080/"
        },
        "id": "pVSh10v6U1zQ",
        "outputId": "1281419c-1c3d-4d05-9a02-c33d29c4eabd"
      },
      "execution_count": 99,
      "outputs": [
        {
          "output_type": "stream",
          "name": "stdout",
          "text": [
            "[[0.34379032 0.34379032 0.5        0.75       0.33333333 0.5       ]\n",
            " [0.54435484 0.54435484 0.5        1.         0.66666667 0.5       ]\n",
            " [0.2016129  0.2016129  0.25       0.5        0.66666667 0.        ]\n",
            " ...\n",
            " [0.22983871 0.22983871 0.25       0.75       0.33333333 0.        ]\n",
            " [0.72580645 0.72580645 0.5        0.5        0.66666667 0.5       ]\n",
            " [0.28629032 0.28629032 0.5        0.75       0.33333333 0.        ]]\n"
          ]
        }
      ]
    },
    {
      "cell_type": "code",
      "source": [
        "ytest=test[[\"valor\"]]\n",
        "ytest=ytest.to_numpy()\n",
        "ytest=ytest.ravel()\n",
        "print(ytest)"
      ],
      "metadata": {
        "colab": {
          "base_uri": "https://localhost:8080/"
        },
        "id": "uGpU7Tm8U7FH",
        "outputId": "760dda46-279c-4fd8-a196-c37b95ed68ce"
      },
      "execution_count": 100,
      "outputs": [
        {
          "output_type": "stream",
          "name": "stdout",
          "text": [
            "[0.38564631 0.35042763 0.09059868 ... 0.17476067 0.59048698 0.1391754 ]\n"
          ]
        }
      ]
    },
    {
      "cell_type": "markdown",
      "source": [
        "**Construccion del modelo de regresion mediante MLPRegressor con la función de activación 'logistic' y varios parámetros personalizados, como el número de capas ocultas (5,3,1) y el número máximo de iteraciones (max_iter=50).**"
      ],
      "metadata": {
        "id": "lbwKBmd2hPiQ"
      }
    },
    {
      "cell_type": "code",
      "source": [
        "reg = MLPRegressor(solver='adam', activation='logistic', alpha=0.0001,tol=1e-10,\n",
        "                    hidden_layer_sizes=(5,3,1,),learning_rate='constant',\n",
        "                    learning_rate_init=0.001, max_iter=50, momentum=0.9, verbose=True)"
      ],
      "metadata": {
        "id": "F0_HgC8hVG8P"
      },
      "execution_count": 101,
      "outputs": []
    },
    {
      "cell_type": "markdown",
      "source": [
        "**Se entrena el modelo con los datos de entrenamiento (xtrain, ytrain).**"
      ],
      "metadata": {
        "id": "iR4o_qF8ibyq"
      }
    },
    {
      "cell_type": "code",
      "source": [
        "reg.fit(xtrain,ytrain)"
      ],
      "metadata": {
        "colab": {
          "base_uri": "https://localhost:8080/",
          "height": 1000
        },
        "id": "RMxxp6O1VHvm",
        "outputId": "e2153be3-5187-4730-e68d-3794ab60df48"
      },
      "execution_count": 102,
      "outputs": [
        {
          "output_type": "stream",
          "name": "stdout",
          "text": [
            "Iteration 1, loss = 0.01921264\n",
            "Iteration 2, loss = 0.01630625\n",
            "Iteration 3, loss = 0.00657617\n",
            "Iteration 4, loss = 0.00392025\n",
            "Iteration 5, loss = 0.00368586\n",
            "Iteration 6, loss = 0.00362775\n",
            "Iteration 7, loss = 0.00360434\n",
            "Iteration 8, loss = 0.00358504\n",
            "Iteration 9, loss = 0.00357252\n",
            "Iteration 10, loss = 0.00356256\n",
            "Iteration 11, loss = 0.00355131\n",
            "Iteration 12, loss = 0.00354387\n",
            "Iteration 13, loss = 0.00353528\n",
            "Iteration 14, loss = 0.00352428\n",
            "Iteration 15, loss = 0.00351875\n",
            "Iteration 16, loss = 0.00351428\n",
            "Iteration 17, loss = 0.00350863\n",
            "Iteration 18, loss = 0.00350270\n",
            "Iteration 19, loss = 0.00349834\n",
            "Iteration 20, loss = 0.00349181\n",
            "Iteration 21, loss = 0.00349693\n",
            "Iteration 22, loss = 0.00348917\n",
            "Iteration 23, loss = 0.00348740\n",
            "Iteration 24, loss = 0.00348493\n",
            "Iteration 25, loss = 0.00348326\n",
            "Iteration 26, loss = 0.00348319\n",
            "Iteration 27, loss = 0.00347869\n",
            "Iteration 28, loss = 0.00347841\n",
            "Iteration 29, loss = 0.00347840\n",
            "Iteration 30, loss = 0.00347660\n",
            "Iteration 31, loss = 0.00347596\n",
            "Iteration 32, loss = 0.00347376\n",
            "Iteration 33, loss = 0.00347225\n",
            "Iteration 34, loss = 0.00347192\n",
            "Iteration 35, loss = 0.00347024\n",
            "Iteration 36, loss = 0.00347245\n",
            "Iteration 37, loss = 0.00346918\n",
            "Iteration 38, loss = 0.00346839\n",
            "Iteration 39, loss = 0.00346903\n",
            "Iteration 40, loss = 0.00347012\n",
            "Iteration 41, loss = 0.00346656\n",
            "Iteration 42, loss = 0.00346593\n",
            "Iteration 43, loss = 0.00346458\n",
            "Iteration 44, loss = 0.00346653\n",
            "Iteration 45, loss = 0.00346383\n",
            "Iteration 46, loss = 0.00346333\n",
            "Iteration 47, loss = 0.00346632\n",
            "Iteration 48, loss = 0.00346178\n",
            "Iteration 49, loss = 0.00346263\n",
            "Iteration 50, loss = 0.00345969\n"
          ]
        },
        {
          "output_type": "stream",
          "name": "stderr",
          "text": [
            "/usr/local/lib/python3.10/dist-packages/sklearn/neural_network/_multilayer_perceptron.py:691: ConvergenceWarning: Stochastic Optimizer: Maximum iterations (50) reached and the optimization hasn't converged yet.\n",
            "  warnings.warn(\n"
          ]
        },
        {
          "output_type": "execute_result",
          "data": {
            "text/plain": [
              "MLPRegressor(activation='logistic', hidden_layer_sizes=(5, 3, 1), max_iter=50,\n",
              "             tol=1e-10, verbose=True)"
            ],
            "text/html": [
              "<style>#sk-container-id-3 {color: black;}#sk-container-id-3 pre{padding: 0;}#sk-container-id-3 div.sk-toggleable {background-color: white;}#sk-container-id-3 label.sk-toggleable__label {cursor: pointer;display: block;width: 100%;margin-bottom: 0;padding: 0.3em;box-sizing: border-box;text-align: center;}#sk-container-id-3 label.sk-toggleable__label-arrow:before {content: \"▸\";float: left;margin-right: 0.25em;color: #696969;}#sk-container-id-3 label.sk-toggleable__label-arrow:hover:before {color: black;}#sk-container-id-3 div.sk-estimator:hover label.sk-toggleable__label-arrow:before {color: black;}#sk-container-id-3 div.sk-toggleable__content {max-height: 0;max-width: 0;overflow: hidden;text-align: left;background-color: #f0f8ff;}#sk-container-id-3 div.sk-toggleable__content pre {margin: 0.2em;color: black;border-radius: 0.25em;background-color: #f0f8ff;}#sk-container-id-3 input.sk-toggleable__control:checked~div.sk-toggleable__content {max-height: 200px;max-width: 100%;overflow: auto;}#sk-container-id-3 input.sk-toggleable__control:checked~label.sk-toggleable__label-arrow:before {content: \"▾\";}#sk-container-id-3 div.sk-estimator input.sk-toggleable__control:checked~label.sk-toggleable__label {background-color: #d4ebff;}#sk-container-id-3 div.sk-label input.sk-toggleable__control:checked~label.sk-toggleable__label {background-color: #d4ebff;}#sk-container-id-3 input.sk-hidden--visually {border: 0;clip: rect(1px 1px 1px 1px);clip: rect(1px, 1px, 1px, 1px);height: 1px;margin: -1px;overflow: hidden;padding: 0;position: absolute;width: 1px;}#sk-container-id-3 div.sk-estimator {font-family: monospace;background-color: #f0f8ff;border: 1px dotted black;border-radius: 0.25em;box-sizing: border-box;margin-bottom: 0.5em;}#sk-container-id-3 div.sk-estimator:hover {background-color: #d4ebff;}#sk-container-id-3 div.sk-parallel-item::after {content: \"\";width: 100%;border-bottom: 1px solid gray;flex-grow: 1;}#sk-container-id-3 div.sk-label:hover label.sk-toggleable__label {background-color: #d4ebff;}#sk-container-id-3 div.sk-serial::before {content: \"\";position: absolute;border-left: 1px solid gray;box-sizing: border-box;top: 0;bottom: 0;left: 50%;z-index: 0;}#sk-container-id-3 div.sk-serial {display: flex;flex-direction: column;align-items: center;background-color: white;padding-right: 0.2em;padding-left: 0.2em;position: relative;}#sk-container-id-3 div.sk-item {position: relative;z-index: 1;}#sk-container-id-3 div.sk-parallel {display: flex;align-items: stretch;justify-content: center;background-color: white;position: relative;}#sk-container-id-3 div.sk-item::before, #sk-container-id-3 div.sk-parallel-item::before {content: \"\";position: absolute;border-left: 1px solid gray;box-sizing: border-box;top: 0;bottom: 0;left: 50%;z-index: -1;}#sk-container-id-3 div.sk-parallel-item {display: flex;flex-direction: column;z-index: 1;position: relative;background-color: white;}#sk-container-id-3 div.sk-parallel-item:first-child::after {align-self: flex-end;width: 50%;}#sk-container-id-3 div.sk-parallel-item:last-child::after {align-self: flex-start;width: 50%;}#sk-container-id-3 div.sk-parallel-item:only-child::after {width: 0;}#sk-container-id-3 div.sk-dashed-wrapped {border: 1px dashed gray;margin: 0 0.4em 0.5em 0.4em;box-sizing: border-box;padding-bottom: 0.4em;background-color: white;}#sk-container-id-3 div.sk-label label {font-family: monospace;font-weight: bold;display: inline-block;line-height: 1.2em;}#sk-container-id-3 div.sk-label-container {text-align: center;}#sk-container-id-3 div.sk-container {/* jupyter's `normalize.less` sets `[hidden] { display: none; }` but bootstrap.min.css set `[hidden] { display: none !important; }` so we also need the `!important` here to be able to override the default hidden behavior on the sphinx rendered scikit-learn.org. See: https://github.com/scikit-learn/scikit-learn/issues/21755 */display: inline-block !important;position: relative;}#sk-container-id-3 div.sk-text-repr-fallback {display: none;}</style><div id=\"sk-container-id-3\" class=\"sk-top-container\"><div class=\"sk-text-repr-fallback\"><pre>MLPRegressor(activation=&#x27;logistic&#x27;, hidden_layer_sizes=(5, 3, 1), max_iter=50,\n",
              "             tol=1e-10, verbose=True)</pre><b>In a Jupyter environment, please rerun this cell to show the HTML representation or trust the notebook. <br />On GitHub, the HTML representation is unable to render, please try loading this page with nbviewer.org.</b></div><div class=\"sk-container\" hidden><div class=\"sk-item\"><div class=\"sk-estimator sk-toggleable\"><input class=\"sk-toggleable__control sk-hidden--visually\" id=\"sk-estimator-id-3\" type=\"checkbox\" checked><label for=\"sk-estimator-id-3\" class=\"sk-toggleable__label sk-toggleable__label-arrow\">MLPRegressor</label><div class=\"sk-toggleable__content\"><pre>MLPRegressor(activation=&#x27;logistic&#x27;, hidden_layer_sizes=(5, 3, 1), max_iter=50,\n",
              "             tol=1e-10, verbose=True)</pre></div></div></div></div></div>"
            ]
          },
          "metadata": {},
          "execution_count": 102
        }
      ]
    },
    {
      "cell_type": "markdown",
      "source": [
        "**Se grafica la curva de pérdida durante el entrenamiento para visualizar cómo disminuyen las pérdidas con el tiempo.**"
      ],
      "metadata": {
        "id": "ehV1sGhAhhv2"
      }
    },
    {
      "cell_type": "code",
      "source": [
        "plt.plot(reg.loss_curve_)"
      ],
      "metadata": {
        "colab": {
          "base_uri": "https://localhost:8080/",
          "height": 453
        },
        "id": "HHvKkH_rVJvM",
        "outputId": "e9c35811-6653-488d-a692-69b58ed73f42"
      },
      "execution_count": 103,
      "outputs": [
        {
          "output_type": "execute_result",
          "data": {
            "text/plain": [
              "[<matplotlib.lines.Line2D at 0x7aa80664c4c0>]"
            ]
          },
          "metadata": {},
          "execution_count": 103
        },
        {
          "output_type": "display_data",
          "data": {
            "text/plain": [
              "<Figure size 640x480 with 1 Axes>"
            ],
            "image/png": "[encoded data removed]"
          },
          "metadata": {}
        }
      ]
    },
    {
      "cell_type": "markdown",
      "source": [
        "**Se realizan predicciones sobre los datos de prueba (xtest) y se evalúa el modelo usando el coeficiente de determinación R² el MAE y el MSE**"
      ],
      "metadata": {
        "id": "Mf_tOar3hw8F"
      }
    },
    {
      "cell_type": "code",
      "source": [
        "# Evaluamos el rendimiento del modelo\n",
        "\n",
        "test_pred = reg.predict(xtest)\n",
        "\n",
        "mae = mean_absolute_error(ytest, test_pred)\n",
        "mse = mean_squared_error(ytest, test_pred)\n",
        "r2 = r2_score(ytest, test_pred)\n",
        "\n",
        "print(f\"Mean Absolute Error (MAE): {mae}\")\n",
        "print(f\"Mean Squared Error (MSE): {mse}\")\n",
        "print(f\"R^2 Score: {r2}\")"
      ],
      "metadata": {
        "colab": {
          "base_uri": "https://localhost:8080/"
        },
        "id": "L78g4AkBVwW7",
        "outputId": "e84b878d-e8a3-4d88-813a-567f121e740d"
      },
      "execution_count": 104,
      "outputs": [
        {
          "output_type": "stream",
          "name": "stdout",
          "text": [
            "Mean Absolute Error (MAE): 0.05657812882786218\n",
            "Mean Squared Error (MSE): 0.00695613633777074\n",
            "R^2 Score: 0.8199473063574664\n"
          ]
        }
      ]
    },
    {
      "cell_type": "markdown",
      "source": [
        "**Se visualizan las primeras 10 predicciones comparándolas con los valores reales mediante un gráfico de dispersión.**"
      ],
      "metadata": {
        "id": "6dGp5aURh7OT"
      }
    },
    {
      "cell_type": "code",
      "source": [
        "m_x=(xtest[:10])\n",
        "m_y=(ytest[:10])\n",
        "\n",
        "m_p=reg.predict(m_x)\n",
        "\n",
        "x=range(0,len(m_p))\n",
        "\n",
        "fig=plt.figure()\n",
        "ax1 = fig.add_subplot()\n",
        "ax1.scatter(x,m_p, marker=\"s\", label='predict')\n",
        "ax1.scatter(x,m_y, marker=\"o\", label='real')\n",
        "plt.show()"
      ],
      "metadata": {
        "colab": {
          "base_uri": "https://localhost:8080/",
          "height": 430
        },
        "id": "FHXmL0v8VN5w",
        "outputId": "99931c07-20a5-4480-e6d2-1eb61abcf3dd"
      },
      "execution_count": 105,
      "outputs": [
        {
          "output_type": "display_data",
          "data": {
            "text/plain": [
              "<Figure size 640x480 with 1 Axes>"
            ],
            "image/png": "[encoded data removed]"
          },
          "metadata": {}
        }
      ]
    },
    {
      "cell_type": "markdown",
      "source": [
        "**Los valores siguientes se obtienen tomando el valor de cada atributo en su orden y normalizandolo teniendo en cuenta la funcion de normalización, el máximo y el mínimp y se realiza una predicción sobre un inmueble con valores de entrada y se muestra el resultado**"
      ],
      "metadata": {
        "id": "PCH5pjk9iCkH"
      }
    },
    {
      "cell_type": "code",
      "source": [
        "input=[0.22983871,0.22983871,0.25,0.5,0.33333333,0.5]\n",
        "\n",
        "\n",
        "pred=reg.predict([input])\n",
        "res=pred*1.900000e+09\n",
        "print('valor del inmueble:',format(res[0], '0.2f'))"
      ],
      "metadata": {
        "colab": {
          "base_uri": "https://localhost:8080/"
        },
        "id": "pOSsdQeSVRLc",
        "outputId": "3f40b702-4a46-49a6-f52f-834b21e1adcb"
      },
      "execution_count": 106,
      "outputs": [
        {
          "output_type": "stream",
          "name": "stdout",
          "text": [
            "valor del inmueble: 294180908.81\n"
          ]
        }
      ]
    },
    {
      "cell_type": "markdown",
      "source": [
        "# Análisis de Resultados\n",
        "\n",
        "Al evaluar el modelo de regresión neuronal utilizando el **MLPRegressor**, se obtuvieron los siguientes resultados:\n",
        "\n",
        "- **Mean Absolute Error (MAE):** `0.0565`\n",
        "- **Mean Squared Error (MSE):** `0.0068`\n",
        "- **R² Score:** `0.8199`\n",
        "\n",
        "## Interpretación de los Resultados:\n",
        "\n",
        "1. **MAE:** El valor del MAE indica que, en promedio, el modelo tiene un error absoluto del 5.65% en la predicción del valor de los inmuebles normalizados. Un valor bajo de MAE es positivo, ya que indica que el modelo predice valores cercanos a los reales.\n",
        "2. **MSE:** El MSE de 0.0068 muestra el error cuadrático medio, penalizando más los errores grandes. Este valor refuerza la idea de que el modelo es bastante preciso en sus predicciones, ya que el error promedio es bajo.\n",
        "3. **R² Score:** El R² de 0.8199 indica que el modelo puede explicar aproximadamente el 81.99% de la variabilidad en los datos de prueba. Este valor sugiere que el modelo tiene un buen poder predictivo, aunque hay un 18.01% de la variabilidad que no está capturada, lo que podría deberse a factores externos o ruido en los datos.\n",
        "\n",
        "---\n",
        "\n",
        "# Graficas\n",
        "\n",
        "1. **Curva de Pérdida:** La curva de pérdida, representada durante el entrenamiento, muestra cómo disminuyen las pérdidas a medida que avanza el entrenamiento del modelo. Esto es esencial para verificar que el modelo no está sobreajustado ni subajustado, y la convergencia indica que se ha encontrado un mínimo local satisfactorio..\n",
        "2. **Comparación de Predicciones vs Valores Reales:** La gráfica de dispersión que compara las primeras 10 predicciones con los valores reales demuestra visualmente cómo el modelo predice bastante cerca de los valores reales, aunque se pueden observar pequeñas desviaciones. Estas diferencias son esperadas en modelos de regresión y, en este caso, no parecen ser significativas.\n",
        "\n",
        "---\n",
        "\n",
        "# Conclusiones\n",
        "\n",
        "1. **Desempeño satisfactorio del modelo:** El valor de **R²** de `0.8199` demuestra que el modelo de red neuronal entrenado es capaz de predecir los valores de los inmuebles con un alto grado de precisión. Si bien no es perfecto, su capacidad de capturar más del 80% de la variabilidad es indicativa de un buen ajuste.\n",
        "2. **Error bajo y aceptable:** El MAE y el MSE bajos sugieren que las predicciones están lo suficientemente cerca de los valores reales, minimizando errores en términos absolutos y cuadráticos.\n",
        "3. **Eficacia de la normalización:** El uso de la normalización ha facilitado que el modelo de red neuronal maneje correctamente las distintas escalas de los datos de entrada, mejorando su capacidad de convergencia y predicción.\n",
        "4. **Espacio para mejoras:** A pesar de los buenos resultados, todavía existe un `18.01%` de variabilidad que el modelo no está capturando. Esto sugiere que podrían incorporarse mejoras, como la inclusión de más datos, la ingeniería de características adicionales, o el ajuste de hiperparámetros..\n",
        "\n",
        "---\n",
        "\n",
        "# Recomendaciones\n",
        "\n",
        "1. **Ajuste de Hiperparámetros:** Sería útil explorar una mayor cantidad de iteraciones (max_iter) para el modelo de MLPRegressor, así como variar el número de neuronas en cada capa oculta para intentar mejorar el ajuste del modelo.\n",
        "2. **Evaluar con más datos:** Aunque el modelo ha mostrado buenos resultados con los datos actuales, es recomendable realizar pruebas con conjuntos de datos más grandes o más diversos para validar la robustez del modelo en otros contextos.\n",
        "3. **Ingeniería de Características:** Se podría explorar agregar más características que puedan influir en el valor de los inmuebles, como la proximidad a servicios públicos, escuelas, transporte, o índices económicos de la región.\n",
        "4. **Regularización y Prevención de Overfitting:** Aunque el modelo no muestra signos evidentes de sobreajuste, podríamos implementar técnicas adicionales de regularización como el uso de dropout en las capas o aumentar el parámetro de regularización alpha en el MLPRegressor.\n",
        "5. **Optimización de Funciones de Activación y Solvers:** También es recomendable explorar otras funciones de activación (como relu o tanh) y otros métodos de optimización (solvers) como lbfgs para comparar su impacto en el rendimiento del model"
      ],
      "metadata": {
        "id": "f5cuOE1KlaUM"
      }
    },
    {
      "cell_type": "markdown",
      "source": [
        "Video de Youtube: Añadido en el repositorio https://github.com/andresr02799/TalentoTech"
      ],
      "metadata": {
        "id": "_HLYoKITAJeC"
      }
    }
  ]
}